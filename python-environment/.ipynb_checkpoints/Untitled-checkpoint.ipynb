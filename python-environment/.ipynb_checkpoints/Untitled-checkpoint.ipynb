{
 "cells": [
  {
   "cell_type": "code",
   "execution_count": 4,
   "id": "verbal-command",
   "metadata": {},
   "outputs": [
    {
     "name": "stdout",
     "output_type": "stream",
     "text": [
      "Logs\\TLog.txt\n"
     ]
    }
   ],
   "source": [
    "from udacidrone import Drone\n",
    "from udacidrone.connection import MavlinkConnection\n",
    "conn = MavlinkConnection('tcp:127.0.0.1:5760', threaded=True)\n",
    "drone = Drone(conn)\n",
    "drone.start()"
   ]
  },
  {
   "cell_type": "code",
   "execution_count": 5,
   "id": "alleged-pregnancy",
   "metadata": {},
   "outputs": [],
   "source": [
    "drone.take_control()\n",
    "drone.arm()"
   ]
  },
  {
   "cell_type": "code",
   "execution_count": 6,
   "id": "radical-merchant",
   "metadata": {},
   "outputs": [],
   "source": [
    "drone.set_home_position(drone.global_position[0], \n",
    "                        drone.global_position[1], \n",
    "                        drone.global_position[2])"
   ]
  },
  {
   "cell_type": "code",
   "execution_count": 9,
   "id": "white-syndication",
   "metadata": {},
   "outputs": [],
   "source": [
    "drone.takeoff(3)\n"
   ]
  },
  {
   "cell_type": "code",
   "execution_count": 8,
   "id": "massive-federation",
   "metadata": {},
   "outputs": [],
   "source": [
    "drone.cmd_position(5,0,3,0)\n"
   ]
  },
  {
   "cell_type": "code",
   "execution_count": 10,
   "id": "infrared-colombia",
   "metadata": {},
   "outputs": [],
   "source": [
    "drone.cmd_position(0,0,3,0)"
   ]
  },
  {
   "cell_type": "code",
   "execution_count": 11,
   "id": "precious-ribbon",
   "metadata": {},
   "outputs": [],
   "source": [
    "drone.land()"
   ]
  },
  {
   "cell_type": "code",
   "execution_count": 12,
   "id": "static-facial",
   "metadata": {},
   "outputs": [],
   "source": [
    "drone.cmd_position(0,0,40,0)"
   ]
  },
  {
   "cell_type": "code",
   "execution_count": 14,
   "id": "enormous-frame",
   "metadata": {},
   "outputs": [],
   "source": [
    "drone.cmd_attitude(0,0,0,0)"
   ]
  },
  {
   "cell_type": "code",
   "execution_count": null,
   "id": "variable-memorial",
   "metadata": {},
   "outputs": [],
   "source": []
  }
 ],
 "metadata": {
  "kernelspec": {
   "display_name": "Python 3",
   "language": "python",
   "name": "python3"
  },
  "language_info": {
   "codemirror_mode": {
    "name": "ipython",
    "version": 3
   },
   "file_extension": ".py",
   "mimetype": "text/x-python",
   "name": "python",
   "nbconvert_exporter": "python",
   "pygments_lexer": "ipython3",
   "version": "3.6.3"
  }
 },
 "nbformat": 4,
 "nbformat_minor": 5
}
