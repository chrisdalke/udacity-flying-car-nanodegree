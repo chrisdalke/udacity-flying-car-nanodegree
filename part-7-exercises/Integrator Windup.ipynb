{
 "cells": [
  {
   "cell_type": "markdown",
   "metadata": {},
   "source": [
    "# Integrator Windup\n",
    "\n",
    "In this notebook you'll explore something called [Integrator Windup](https://en.wikipedia.org/wiki/Integral_windup).\n",
    "\n",
    "Integrator Windup occurs in a PID controller when a large change in the setpoint happens. This causes the integral term to accumulate a large error (windup) as it rises to the new setpoint. \n",
    "\n",
    "Once the system reaches the new setpoint, the large accumulated error will cause the system to overshoot as the accumulated error is \"unwound\"."
   ]
  },
  {
   "cell_type": "code",
   "execution_count": 1,
   "metadata": {},
   "outputs": [],
   "source": [
    "from matplotlib import pyplot as plt\n",
    "import numpy as np"
   ]
  },
  {
   "cell_type": "markdown",
   "metadata": {},
   "source": [
    "#### TODO 1\n",
    "In the two cells below you'll find a `Vehicle` class and a `Controller` class. Review the code in these classes before moving on."
   ]
  },
  {
   "cell_type": "code",
   "execution_count": 2,
   "metadata": {},
   "outputs": [],
   "source": [
    "class Vehicle:\n",
    "    \"\"\"\n",
    "    A vehicle (maybe a quadrotor) that moves only in the \n",
    "    vertical direction. This vehicle has a maximum and minimum\n",
    "    allowed thrust.\n",
    "    \"\"\"\n",
    "    z = 0.0\n",
    "    z_dot = 0.0\n",
    "    m = 1.0\n",
    "    \n",
    "    _thrust = 0.0\n",
    "    _thrust_min = 4.0\n",
    "    _thrust_max = 50\n",
    "    \n",
    "    def advance_state(self, dt):\n",
    "        z_dot_dot = (self._thrust - self.m*9.81) / self.m\n",
    "        self.z_dot += z_dot_dot * dt\n",
    "        self.z += self.z_dot * dt\n",
    "        \n",
    "    def set_thrust(self, thrust):\n",
    "        if thrust > self._thrust_max:\n",
    "            thrust = self._thrust_max\n",
    "        if thrust < self._thrust_min:\n",
    "            thrust = self._thrust_min\n",
    "        self._thrust = thrust"
   ]
  },
  {
   "cell_type": "code",
   "execution_count": 3,
   "metadata": {},
   "outputs": [],
   "source": [
    "class Controller():\n",
    "    \"\"\"\n",
    "    PID controller with three tunable parameters.\n",
    "    \"\"\"\n",
    "    \n",
    "    # accumulated error\n",
    "    integrated_error = 0.0\n",
    "    last_err = 0.0\n",
    "    \n",
    "    # vehicle params\n",
    "    vehicle_mass = 1.0\n",
    "    mass_error = 2.0\n",
    "    \n",
    "    def __init__(self, k_P=4.0, k_D=11.0, k_I=0.0):\n",
    "        self.k_P = k_P\n",
    "        self.k_D = k_D\n",
    "        self.k_I = k_I\n",
    "        print(\"Using controller with:\")\n",
    "        print(\" k_P =\", k_P)\n",
    "        print(\" k_I =\", k_I)\n",
    "        print(\" k_D =\", k_D)\n",
    "        \n",
    "    @property\n",
    "    def mass(self):\n",
    "        return self.vehicle_mass * self.mass_error\n",
    "    \n",
    "    def control(self, z, z_cmd, dt):\n",
    "        err = z_cmd - z\n",
    "        err_dot = (err - self.last_err) / dt\n",
    "        self.integrated_error += err*dt\n",
    "        \n",
    "        thrust_cmd = (  self.k_P * err \\\n",
    "                      + self.k_D * err_dot \\\n",
    "                      + self.k_I * self.integrated_error \\\n",
    "                      + self.mass * 9.81)\n",
    "        self.last_err = err\n",
    "        return thrust_cmd"
   ]
  },
  {
   "cell_type": "markdown",
   "metadata": {},
   "source": [
    "#### TODO 2\n",
    "Run the cell below to visualize the trajectory the vehicle try to fly. Later you can modify this trajectory by adjusting `AMPLITUDE` and `DURATION`. "
   ]
  },
  {
   "cell_type": "code",
   "execution_count": 4,
   "metadata": {},
   "outputs": [
    {
     "data": {
      "text/plain": [
       "[<matplotlib.lines.Line2D at 0x2482aa0feb8>]"
      ]
     },
     "execution_count": 4,
     "metadata": {},
     "output_type": "execute_result"
    },
    {
     "data": {
      "image/png": "[encoded data removed]",
      "text/plain": [
       "<matplotlib.figure.Figure at 0x2482a9bba58>"
      ]
     },
     "metadata": {
      "needs_background": "light"
     },
     "output_type": "display_data"
    }
   ],
   "source": [
    "AMPLITUDE = 100\n",
    "DURATION  = 90.0\n",
    "\n",
    "trajectory = AMPLITUDE * np.concatenate(\n",
    "    (np.zeros(150),\n",
    "     np.ones(150),\n",
    "     np.zeros(150))\n",
    ")\n",
    "\n",
    "t = np.linspace(0, DURATION, trajectory.shape[0])\n",
    "\n",
    "plt.plot(t, trajectory)"
   ]
  },
  {
   "cell_type": "markdown",
   "metadata": {},
   "source": [
    "#### TODO 3\n",
    "Run the following two cells to visualize the vehicle's flight."
   ]
  },
  {
   "cell_type": "code",
   "execution_count": 5,
   "metadata": {},
   "outputs": [],
   "source": [
    "def simulate(vehicle, controller, trajectory, t):\n",
    "    dt = t[1] - t[0]\n",
    "    hist = []\n",
    "    for z_cmd in trajectory:\n",
    "        z = vehicle.z\n",
    "        hist.append(z)\n",
    "        thrust_cmd = controller.control(z, z_cmd, dt)\n",
    "        vehicle.set_thrust(thrust_cmd)\n",
    "        vehicle.advance_state(dt)\n",
    "    return hist"
   ]
  },
  {
   "cell_type": "code",
   "execution_count": 11,
   "metadata": {},
   "outputs": [
    {
     "name": "stdout",
     "output_type": "stream",
     "text": [
      "Using controller with:\n",
      " k_P = 1.0\n",
      " k_I = 0.5\n",
      " k_D = 4.0\n"
     ]
    },
    {
     "data": {
      "text/plain": [
       "[<matplotlib.lines.Line2D at 0x2482ab57b38>]"
      ]
     },
     "execution_count": 11,
     "metadata": {},
     "output_type": "execute_result"
    },
    {
     "data": {
      "image/png": "[encoded data removed]",
      "text/plain": [
       "<matplotlib.figure.Figure at 0x2482ab57c18>"
      ]
     },
     "metadata": {
      "needs_background": "light"
     },
     "output_type": "display_data"
    }
   ],
   "source": [
    "# SIMULATION CELL\n",
    "\n",
    "k_P = 1.0\n",
    "k_I = 0.5\n",
    "k_D = 4.0\n",
    "\n",
    "controller_1 = Controller(k_P=k_P, k_I=k_I, k_D=k_D)\n",
    "# controller_2 = WindupAvoidingController(k_P=k_P, k_I=k_I, k_D=k_D)\n",
    "vehicle_1 = Vehicle()\n",
    "# vehicle_2 = Vehicle()\n",
    "\n",
    "hist_1 = simulate(vehicle_1, controller_1, trajectory, t)\n",
    "# hist_2 = simulate(vehicle_2, controller_2, trajectory, t)\n",
    "    \n",
    "plt.plot(t, hist_1)\n",
    "# plt.plot(t, hist_2)\n",
    "plt.plot(t, trajectory)"
   ]
  },
  {
   "cell_type": "markdown",
   "metadata": {},
   "source": [
    "#### TODO 4\n",
    "\n",
    "Compare different values of `k_I` above. Try 0.0, 0.2, 0.5, 1.0...\n",
    "\n",
    "* At `k_I = 0.0`, the mass error causes the vehicle to never actually reach the target altitude.\n",
    "\n",
    "* At `k_I = 0.1`, the vehicle does eventually reach its targets, but it takes a long time.\n",
    "\n",
    "* At `k_I = 0.2`, you can really start to see how the **integrator windup** causes the vehicle to overshoot.\n",
    "\n",
    "* At `k_I = 0.5`, the windup causes serious oscillations. But these oscillations appear to eventually die out.\n",
    "\n",
    "* At `k_I = 1.0`, the integrator has added so much instability that the system is totally unstable. \n",
    "\n",
    "This should give you a sense for how winup in the I term adds instability to the system."
   ]
  },
  {
   "cell_type": "markdown",
   "metadata": {},
   "source": [
    "----\n",
    "\n",
    "#### TODO 5\n",
    "\n",
    "Read the [Wikipedia Article on Integral Windup](https://en.wikipedia.org/wiki/Integral_windup) and try implementing one of the solutions suggested there in the `WindupAvoidingController` class below.\n",
    "\n",
    "Once you've done that, you can uncomment the lines of code in the cell marked `# SIMULATION CELL` above. Now when you run that cell you'll be able to compare the normal controller to the \"windup avoiding\" controller."
   ]
  },
  {
   "cell_type": "code",
   "execution_count": 7,
   "metadata": {},
   "outputs": [],
   "source": [
    "class WindupAvoidingController():\n",
    "    \n",
    "    # accumulated error\n",
    "    integrated_error = 0.0\n",
    "    last_err = 0.0\n",
    "    \n",
    "    # vehicle params\n",
    "    vehicle_mass = 1.0\n",
    "    mass_error = 2.0\n",
    "    \n",
    "    # NEW vehicle params\n",
    "    thrust_min = 4.0\n",
    "    thrust_max = 50\n",
    "    \n",
    "    def __init__(self, k_P=4.0, k_D=11.0, k_I=0.0):\n",
    "        self.k_P = k_P\n",
    "        self.k_D = k_D\n",
    "        self.k_I = k_I\n",
    "        print(\"Using controller with:\")\n",
    "        print(\" k_P =\", k_P)\n",
    "        print(\" k_I =\", k_I)\n",
    "        print(\" k_D =\", k_D)\n",
    "        \n",
    "    @property\n",
    "    def mass(self):\n",
    "        return self.vehicle_mass * self.mass_error\n",
    "    \n",
    "    def control(self, z, z_cmd, dt):\n",
    "        \n",
    "        # # # # # \n",
    "        # TODO - modify the code in this method so that \n",
    "        #   your integral term avoids excessive windup.\n",
    "        # \n",
    "        #   You can find one solution immediately below \n",
    "        #   this cell.\n",
    "        \n",
    "        err = z_cmd - z\n",
    "        err_dot = (err - self.last_err) / dt\n",
    "        self.integrated_error += err*dt\n",
    "        \n",
    "        thrust_cmd = (  self.k_P * err \\\n",
    "                      + self.k_D * err_dot \\\n",
    "                      + self.k_I * self.integrated_error \\\n",
    "                      + self.mass * 9.81)\n",
    "        self.last_err = err\n",
    "        return thrust_cmd"
   ]
  },
  {
   "cell_type": "markdown",
   "metadata": {},
   "source": [
    "#### One Solution\n",
    "\n",
    "The following code demonstrates one potential windup-avoiding solution:\n",
    "\n",
    "```python\n",
    "    def control(self, z, z_cmd, dt):\n",
    "        err = z_cmd - z\n",
    "        err_dot = (err - self.last_err) / dt\n",
    "        self.integrated_error += err*dt\n",
    "        \n",
    "        thrust_cmd = (self.k_P * err \\\n",
    "                      + self.k_D * err_dot \\\n",
    "                      + self.mass * 9.81)\n",
    "        \n",
    "        if self.thrust_min < thrust_cmd < self.thrust_max:\n",
    "            self.integrated_error += err*dt\n",
    "            thrust_cmd += self.k_I * self.integrated_error\n",
    "        \n",
    "        self.last_err = err\n",
    "        return thrust_cmd\n",
    "```"
   ]
  }
 ],
 "metadata": {
  "kernelspec": {
   "display_name": "Python 3",
   "language": "python",
   "name": "python3"
  },
  "language_info": {
   "codemirror_mode": {
    "name": "ipython",
    "version": 3
   },
   "file_extension": ".py",
   "mimetype": "text/x-python",
   "name": "python",
   "nbconvert_exporter": "python",
   "pygments_lexer": "ipython3",
   "version": "3.6.3"
  }
 },
 "nbformat": 4,
 "nbformat_minor": 2
}
