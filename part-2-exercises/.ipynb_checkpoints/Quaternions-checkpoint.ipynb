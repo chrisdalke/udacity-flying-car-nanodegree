{
 "cells": [
  {
   "cell_type": "markdown",
   "metadata": {},
   "source": [
    "## Quaternions\n"
   ]
  },
  {
   "cell_type": "markdown",
   "metadata": {},
   "source": [
    "In the following exercise you'll implement functions to convert between Euler angles and quaternion representations. It's useful to be able to easily navigate back and forth between these representations because of their relative strengths. Quaternions are better for calculations, while Euler angles are far more intuitive.\n",
    "\n",
    "Some messages coming from your drone in simulation (or in the real world) will represent orientation data as a quaternion, while others use Euler angles. So it's a good idea to be able to seamlessly handle both. \n",
    "\n",
    "The [`udacidrone` API imlementation](https://github.com/udacity/udacidrone/blob/master/udacidrone/connection/message_types.py#L189-L284) that you're using for the projects in this program already has these conversions implemented under the hood so that's a great place to start if you aren't sure how to complete this exercise!"
   ]
  },
  {
   "cell_type": "code",
   "execution_count": 5,
   "metadata": {},
   "outputs": [],
   "source": [
    "import numpy as np\n",
    "\n",
    "def euler_to_quaternion(angles):\n",
    "    roll = angles[0]\n",
    "    pitch = angles[1]\n",
    "    yaw = angles[2]\n",
    "    \n",
    "    return np.array([\n",
    "        [np.cos(roll / 2.0) * np.cos(pitch / 2.0) * np.cos(yaw / 2.0) + np.sin(roll / 2.0) * np.sin(pitch / 2.0) * np.sin(yaw / 2.0)],\n",
    "        [np.sin(roll / 2.0) * np.cos(pitch / 2.0) * np.cos(yaw / 2.0) - np.cos(roll / 2.0) * np.sin(pitch / 2.0) * np.sin(yaw / 2.0)],\n",
    "        [np.cos(roll / 2.0) * np.sin(pitch / 2.0) * np.cos(yaw / 2.0) + np.sin(roll / 2.0) * np.cos(pitch / 2.0) * np.sin(yaw / 2.0)],\n",
    "        [np.cos(roll / 2.0) * np.cos(pitch / 2.0) * np.sin(yaw / 2.0) - np.sin(roll / 2.0) * np.sin(pitch / 2.0) * np.cos(yaw / 2.0)]\n",
    "    ])\n",
    "\n",
    "def quaternion_to_euler(quaternion):\n",
    "    a = quaternion[0]\n",
    "    b = quaternion[1]\n",
    "    c = quaternion[2]\n",
    "    d = quaternion[3]\n",
    "    \n",
    "    roll = np.arctan((2 * ((a*b) + (c*d))) / (1 - (2 * ((b*b) + (c*c)))))\n",
    "    pitch = np.arcsin(2 * ((a*c) - (d*b)))\n",
    "    yaw = np.arctan((2 * ((a*d) + (b*c))) / (1 - (2 * ((c*c) + (d*d)))))\n",
    "    return np.array([roll, pitch, yaw])"
   ]
  },
  {
   "cell_type": "markdown",
   "metadata": {},
   "source": [
    "Test the conversion."
   ]
  },
  {
   "cell_type": "code",
   "execution_count": 6,
   "metadata": {},
   "outputs": [
    {
     "name": "stdout",
     "output_type": "stream",
     "text": [
      "[[ 0.6830127]\n",
      " [ 0.6830127]\n",
      " [ 0.1830127]\n",
      " [-0.1830127]]\n"
     ]
    },
    {
     "ename": "AssertionError",
     "evalue": "",
     "output_type": "error",
     "traceback": [
      "\u001b[1;31m---------------------------------------------------------------------------\u001b[0m",
      "\u001b[1;31mAssertionError\u001b[0m                            Traceback (most recent call last)",
      "\u001b[1;32m<ipython-input-6-b279221bb220>\u001b[0m in \u001b[0;36m<module>\u001b[1;34m\u001b[0m\n\u001b[0;32m      4\u001b[0m \u001b[0mprint\u001b[0m\u001b[1;33m(\u001b[0m\u001b[0mq\u001b[0m\u001b[1;33m)\u001b[0m\u001b[1;33m\u001b[0m\u001b[0m\n\u001b[0;32m      5\u001b[0m \u001b[1;33m\u001b[0m\u001b[0m\n\u001b[1;32m----> 6\u001b[1;33m \u001b[1;32massert\u001b[0m \u001b[0mnp\u001b[0m\u001b[1;33m.\u001b[0m\u001b[0mallclose\u001b[0m\u001b[1;33m(\u001b[0m\u001b[0meuler\u001b[0m\u001b[1;33m,\u001b[0m \u001b[0mquaternion_to_euler\u001b[0m\u001b[1;33m(\u001b[0m\u001b[0mq\u001b[0m\u001b[1;33m)\u001b[0m\u001b[1;33m)\u001b[0m\u001b[1;33m\u001b[0m\u001b[0m\n\u001b[0m",
      "\u001b[1;31mAssertionError\u001b[0m: "
     ]
    }
   ],
   "source": [
    "euler = np.array([np.deg2rad(90), np.deg2rad(30), np.deg2rad(0)])\n",
    "\n",
    "q = euler_to_quaternion(euler) # should be [ 0.683  0.683  0.183 -0.183]\n",
    "print(q)\n",
    "\n",
    "assert np.allclose(euler, quaternion_to_euler(q))"
   ]
  },
  {
   "cell_type": "markdown",
   "metadata": {},
   "source": [
    "Here's our [solution](/notebooks/Quaternions-Solution.ipynb)!"
   ]
  },
  {
   "cell_type": "code",
   "execution_count": null,
   "metadata": {},
   "outputs": [],
   "source": []
  }
 ],
 "metadata": {
  "kernelspec": {
   "display_name": "Python 3",
   "language": "python",
   "name": "python3"
  },
  "language_info": {
   "codemirror_mode": {
    "name": "ipython",
    "version": 3
   },
   "file_extension": ".py",
   "mimetype": "text/x-python",
   "name": "python",
   "nbconvert_exporter": "python",
   "pygments_lexer": "ipython3",
   "version": "3.6.3"
  }
 },
 "nbformat": 4,
 "nbformat_minor": 2
}
