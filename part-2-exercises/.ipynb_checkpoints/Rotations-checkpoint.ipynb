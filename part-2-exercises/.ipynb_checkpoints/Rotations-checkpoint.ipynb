{
 "cells": [
  {
   "cell_type": "markdown",
   "metadata": {},
   "source": [
    "## Euler Rotations\n",
    "\n",
    "In this notebook you'll explore Euler rotations and get a feel for why the order of rotations matters.\n",
    "\n",
    "Euler rotations as we define them in this program are counterclockwise about the axes of the vehicle body frame, where:\n",
    "\n",
    "- *Roll* - $\\phi$ is about the x-axis\n",
    "- *Pitch* - $\\theta$ is about the y-axis\n",
    "- *Yaw* - $\\psi$ is about the z-axis\n",
    "\n",
    "As you'll see the same set of rotation transformations, applied in a different order can produce a very different final result!"
   ]
  },
  {
   "cell_type": "code",
   "execution_count": null,
   "metadata": {},
   "outputs": [],
   "source": [
    "import matplotlib.pyplot as plt \n",
    "from mpl_toolkits.mplot3d import Axes3D\n",
    "\n",
    "import numpy as np\n",
    "from enum import Enum\n",
    "\n",
    "%matplotlib inline\n",
    "np.set_printoptions(precision=3, suppress=True)"
   ]
  },
  {
   "cell_type": "code",
   "execution_count": null,
   "metadata": {},
   "outputs": [],
   "source": [
    "plt.rcParams[\"figure.figsize\"] = [12, 12]"
   ]
  },
  {
   "cell_type": "code",
   "execution_count": null,
   "metadata": {},
   "outputs": [],
   "source": [
    "class Rotation(Enum):\n",
    "    ROLL = 0\n",
    "    PITCH = 1\n",
    "    YAW = 2  \n",
    "\n",
    "\n",
    "class EulerRotation:\n",
    "    \n",
    "    def __init__(self, rotations):\n",
    "        \"\"\"\n",
    "        `rotations` is a list of 2-element tuples where the\n",
    "        first element is the rotation kind and the second element\n",
    "        is angle in degrees.\n",
    "        \n",
    "        Ex:\n",
    "        \n",
    "            [(Rotation.ROLL, 45), (Rotation.YAW, 32), (Rotation.PITCH, 55)]\n",
    "            \n",
    "        \"\"\"\n",
    "        self._rotations = rotations\n",
    "        self._rotation_map = {Rotation.ROLL : self.roll, Rotation.PITCH : self.pitch, Rotation.YAW : self.yaw}\n",
    "\n",
    "    def roll(self, phi):\n",
    "        \"\"\"Returns a rotation matrix along the roll axis\"\"\"\n",
    "        return \n",
    "    \n",
    "    def pitch(self, theta):\n",
    "        \"\"\"Returns the rotation matrix along the pitch axis\"\"\"\n",
    "        return \n",
    "\n",
    "    def yaw(self, psi):\n",
    "        \"\"\"Returns the rotation matrix along the yaw axis\"\"\"\n",
    "        return \n",
    "\n",
    "    def rotate(self):\n",
    "        \"\"\"Applies the rotations in sequential order\"\"\"\n",
    "        t = np.eye(3)\n",
    "        return t"
   ]
  },
  {
   "cell_type": "markdown",
   "metadata": {},
   "source": [
    "Below you'll form a sequence of rotations. The rotation matrix `R` is the mapping of performing the rotations in sequential order. Multiplying a vector by `R` will perform the rotations on that vector."
   ]
  },
  {
   "cell_type": "code",
   "execution_count": null,
   "metadata": {},
   "outputs": [],
   "source": [
    "# Test your code by passing in some rotation values\n",
    "rotations = [\n",
    "    (Rotation.ROLL, 25),\n",
    "    (Rotation.PITCH, 75),\n",
    "    (Rotation.YAW, 90),\n",
    "]\n",
    "\n",
    "R = EulerRotation(rotations).rotate()\n",
    "print('Rotation matrix ...')\n",
    "print(R)\n",
    "# Should print\n",
    "# Rotation matrix ...\n",
    "# [[ 0.    -0.906  0.423]\n",
    "#  [ 0.259  0.408  0.875]\n",
    "#  [-0.966  0.109  0.235]]"
   ]
  },
  {
   "cell_type": "markdown",
   "metadata": {},
   "source": [
    "Go back and change the order of the rotations, you should get back a rotation matrix with different values."
   ]
  },
  {
   "cell_type": "markdown",
   "metadata": {},
   "source": [
    "### Same Rotations, Different Order\n",
    "\n",
    "Now calculate three different rotations matrices. They should stem from the same set of Euler rotations, just in differing order."
   ]
  },
  {
   "cell_type": "code",
   "execution_count": null,
   "metadata": {},
   "outputs": [],
   "source": [
    "# TODO: calculate 3 rotation matrices.\n",
    "R1 = None\n",
    "R2 = None\n",
    "R3 = None"
   ]
  },
  {
   "cell_type": "markdown",
   "metadata": {},
   "source": [
    "### Seeing is Believing"
   ]
  },
  {
   "cell_type": "markdown",
   "metadata": {},
   "source": [
    "It's clear the three rotation matrices are different, but, in order to get an deeper understanding let's plot the impact of the rotations."
   ]
  },
  {
   "cell_type": "code",
   "execution_count": null,
   "metadata": {},
   "outputs": [],
   "source": [
    "# unit vector along x-axis\n",
    "v = np.array([1, 0, 0])"
   ]
  },
  {
   "cell_type": "markdown",
   "metadata": {},
   "source": [
    "Apply the rotations to `v`. Feel free to change the values of this input vector."
   ]
  },
  {
   "cell_type": "code",
   "execution_count": null,
   "metadata": {},
   "outputs": [],
   "source": [
    "# TODO: calculate the new rotated versions of `v`.\n",
    "rv1 = None\n",
    "rv2 = None\n",
    "rv3 = None\n",
    "# rv = np.dot(R, v)"
   ]
  },
  {
   "cell_type": "markdown",
   "metadata": {},
   "source": [
    "Plotting time ..."
   ]
  },
  {
   "cell_type": "code",
   "execution_count": null,
   "metadata": {},
   "outputs": [],
   "source": [
    "fig = plt.figure()\n",
    "ax = fig.gca(projection='3d')\n",
    "\n",
    "# axes (shown in black)\n",
    "ax.quiver(0, 0, 0, 1.5, 0, 0, color='black', arrow_length_ratio=0.15)\n",
    "ax.quiver(0, 0, 0, 0, 1.5, 0, color='black', arrow_length_ratio=0.15)\n",
    "ax.quiver(0, 0, 0, 0, 0, 1.5, color='black', arrow_length_ratio=0.15)\n",
    "\n",
    "\n",
    "# Original Vector (shown in blue)\n",
    "ax.quiver(0, 0, 0, v[0], v[1], v[2], color='blue', arrow_length_ratio=0.15)\n",
    "\n",
    "# Rotated Vectors (shown in red)\n",
    "ax.quiver(0, 0, 0, rv1[0], rv1[1], rv1[2], color='red', arrow_length_ratio=0.15)\n",
    "ax.quiver(0, 0, 0, rv2[0], rv2[1], rv2[2], color='purple', arrow_length_ratio=0.15)\n",
    "ax.quiver(0, 0, 0, rv3[0], rv3[1], rv3[2], color='green', arrow_length_ratio=0.15)\n",
    "\n",
    "ax.set_xlim3d(-1, 1)\n",
    "ax.set_ylim3d(1, -1)\n",
    "ax.set_zlim3d(1, -1)\n",
    "\n",
    "ax.set_xlabel('X')\n",
    "ax.set_ylabel('Y')\n",
    "ax.set_zlabel('Z')\n",
    "\n",
    "plt.show()"
   ]
  },
  {
   "cell_type": "markdown",
   "metadata": {},
   "source": [
    "### Gimbal Lock\n",
    "To demonstrate gimbal lock try starting a series of rotations with a pitch of +/- 90 degrees, then see what happens when you try to yaw. Try the yaw first and see what happens!"
   ]
  },
  {
   "cell_type": "markdown",
   "metadata": {},
   "source": [
    "[solution](/notebooks/Rotations-Solution.ipynb)"
   ]
  },
  {
   "cell_type": "code",
   "execution_count": null,
   "metadata": {},
   "outputs": [],
   "source": []
  }
 ],
 "metadata": {
  "kernelspec": {
   "display_name": "Python 3",
   "language": "python",
   "name": "python3"
  },
  "language_info": {
   "codemirror_mode": {
    "name": "ipython",
    "version": 3
   },
   "file_extension": ".py",
   "mimetype": "text/x-python",
   "name": "python",
   "nbconvert_exporter": "python",
   "pygments_lexer": "ipython3",
   "version": "3.6.3"
  }
 },
 "nbformat": 4,
 "nbformat_minor": 2
}
