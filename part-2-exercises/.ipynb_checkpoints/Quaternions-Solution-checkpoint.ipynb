{
 "cells": [
  {
   "cell_type": "markdown",
   "metadata": {},
   "source": [
    "## Quaternions Solution\n"
   ]
  },
  {
   "cell_type": "markdown",
   "metadata": {},
   "source": [
    "In the following exercise you'll implement functions to convert between euler angles and quaternion representations. It's handy to easily navigate back and forth between the representations because each of their strengths. Quaternions are used to perform rotations, while euler angles are far more readable.\n",
    "\n",
    "Additionally, some messages represent gyro related data as a quaternion, while others use euler angles. It's beneficial to seamlessly handle both. Given a representation [`udacidrone`](https://github.com/udacity/udacidrone/blob/master/udacidrone/connection/message_types.py#L189-L284) performs a conversion and stores both representations."
   ]
  },
  {
   "cell_type": "code",
   "execution_count": 1,
   "metadata": {},
   "outputs": [],
   "source": [
    "import numpy as np\n",
    "\n",
    "def euler_to_quaternion(angles):\n",
    "    roll = angles[0]\n",
    "    pitch = angles[1]\n",
    "    yaw = angles[2]\n",
    "    \n",
    "    sp = np.sin(pitch / 2.0)\n",
    "    cp = np.cos(pitch / 2.0)\n",
    "    sr = np.sin(roll / 2.0)\n",
    "    cr = np.cos(roll / 2.0)\n",
    "    sy = np.sin(yaw / 2.0)\n",
    "    cy = np.cos(yaw / 2.0)\n",
    "\n",
    "    a = cr * cp * cy + sr * sp * sy\n",
    "    b = sr * cp * cy - cr * sp * sy\n",
    "    c = cr * sp * cy + sr * cp * sy\n",
    "    d = cr * cp * sy - sr * sp * cy\n",
    "    \n",
    "    return np.array([a, b, c, d])\n",
    "\n",
    "def quaternion_to_euler(quaternion):\n",
    "    a = quaternion[0]\n",
    "    b = quaternion[1]\n",
    "    c = quaternion[2]\n",
    "    d = quaternion[3]\n",
    "    \n",
    "    roll = np.arctan2(2.0 * (a * b + c * d), 1.0 - 2.0 * (b**2 + c**2))\n",
    "    pitch = np.arcsin(2.0 * (a * c - d * b))\n",
    "    yaw = np.arctan2(2.0 * (a * d + b * c), 1.0 - 2.0 * (c**2 + d**2))\n",
    "    \n",
    "    return np.array([roll, pitch, yaw])"
   ]
  },
  {
   "cell_type": "markdown",
   "metadata": {},
   "source": [
    "Test the conversion."
   ]
  },
  {
   "cell_type": "code",
   "execution_count": 4,
   "metadata": {},
   "outputs": [
    {
     "name": "stdout",
     "output_type": "stream",
     "text": [
      "[ 0.6830127  0.6830127  0.1830127 -0.1830127]\n",
      "[ 1.57079633  0.52359878  0.        ]\n"
     ]
    }
   ],
   "source": [
    "euler = np.array([np.deg2rad(90), np.deg2rad(30), np.deg2rad(0)])\n",
    "\n",
    "# should be [ 0.683  0.683  0.183 -0.183]\n",
    "q = euler_to_quaternion(euler) \n",
    "print(q)\n",
    "\n",
    "# should be [ 1.570  0.523  0.]\n",
    "e = quaternion_to_euler(q)\n",
    "print(e)\n",
    "assert np.allclose(euler, quaternion_to_euler(q))"
   ]
  },
  {
   "cell_type": "code",
   "execution_count": null,
   "metadata": {},
   "outputs": [],
   "source": []
  },
  {
   "cell_type": "code",
   "execution_count": null,
   "metadata": {},
   "outputs": [],
   "source": []
  }
 ],
 "metadata": {
  "kernelspec": {
   "display_name": "Python 3",
   "language": "python",
   "name": "python3"
  },
  "language_info": {
   "codemirror_mode": {
    "name": "ipython",
    "version": 3
   },
   "file_extension": ".py",
   "mimetype": "text/x-python",
   "name": "python",
   "nbconvert_exporter": "python",
   "pygments_lexer": "ipython3",
   "version": "3.6.3"
  }
 },
 "nbformat": 4,
 "nbformat_minor": 2
}
