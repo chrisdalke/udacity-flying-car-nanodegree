{
 "cells": [
  {
   "cell_type": "markdown",
   "metadata": {},
   "source": [
    "# Random Sampling\n",
    "\n",
    "In this notebook you'll work with the obstacle's polygon representation itself.\n",
    "\n",
    "Your tasks will be:\n",
    "\n",
    "1. Create polygons.\n",
    "2. Sample random 3D points.\n",
    "3. Remove points contained by an obstacle polygon.\n",
    "\n",
    "Recall, a point $(x, y, z)$ collides with a polygon if the $(x, y)$ coordinates are contained by the polygon and the $z$ coordinate (height) is less than the height of the polygon."
   ]
  },
  {
   "cell_type": "code",
   "execution_count": 81,
   "metadata": {},
   "outputs": [],
   "source": [
    "import time\n",
    "import numpy as np\n",
    "import matplotlib.pyplot as plt\n",
    "from mpl_toolkits.mplot3d import Axes3D\n",
    "from shapely.geometry import Polygon, Point\n",
    "%matplotlib inline \n",
    "\n"
   ]
  },
  {
   "cell_type": "code",
   "execution_count": 82,
   "metadata": {},
   "outputs": [],
   "source": [
    "plt.rcParams['figure.figsize'] = 12, 12"
   ]
  },
  {
   "cell_type": "code",
   "execution_count": 83,
   "metadata": {},
   "outputs": [
    {
     "name": "stdout",
     "output_type": "stream",
     "text": [
      "[[-310.2389   -439.2315     85.5         5.          5.         85.5     ]\n",
      " [-300.2389   -439.2315     85.5         5.          5.         85.5     ]\n",
      " [-290.2389   -439.2315     85.5         5.          5.         85.5     ]\n",
      " ...\n",
      " [ 257.8061    425.1645      1.75852     1.292725    1.292725    1.944791]\n",
      " [ 293.9967    368.3391      3.557666    1.129456    1.129456    3.667319]\n",
      " [ 281.5162    354.4156      4.999351    1.053772    1.053772    4.950246]]\n"
     ]
    }
   ],
   "source": [
    "# This is the same obstacle data from the previous lesson.\n",
    "filename = 'colliders.csv'\n",
    "data = np.loadtxt(filename, delimiter=',', dtype='Float64', skiprows=2)\n",
    "print(data)"
   ]
  },
  {
   "cell_type": "markdown",
   "metadata": {},
   "source": [
    "## Create Polygons"
   ]
  },
  {
   "cell_type": "code",
   "execution_count": 84,
   "metadata": {},
   "outputs": [],
   "source": [
    "def extract_polygons(data):\n",
    "\n",
    "    polygons = []\n",
    "    for i in range(data.shape[0]):\n",
    "        north, east, alt, d_north, d_east, d_alt = data[i, :]\n",
    "        \n",
    "        northMin = (north - d_north)\n",
    "        northMax = (north + d_north)\n",
    "        eastMin = (east - d_east)\n",
    "        eastMax = (east + d_east)\n",
    "        altMin = (alt - d_alt)\n",
    "        altMax = (alt + d_alt)\n",
    "        \n",
    "        # Extract the 4 corners of the obstacle\n",
    "        # \n",
    "        # NOTE: The order of the points matters since\n",
    "        # `shapely` draws the sequentially from point to point.\n",
    "        #\n",
    "        # If the area of the polygon is 0 you've likely got a weird\n",
    "        # order.\n",
    "        corners = [(northMin, eastMin),  (northMax, eastMax), (northMax, eastMin), (northMin, eastMax)]\n",
    "        \n",
    "        # Compute the height of the polygon\n",
    "        height = altMax - altMin\n",
    "\n",
    "        # Once you've defined corners, define polygons\n",
    "        p = Polygon(corners)\n",
    "        polygons.append((p, height))\n",
    "\n",
    "    return polygons\n"
   ]
  },
  {
   "cell_type": "code",
   "execution_count": 85,
   "metadata": {},
   "outputs": [],
   "source": [
    "polygons = extract_polygons(data)"
   ]
  },
  {
   "cell_type": "markdown",
   "metadata": {},
   "source": [
    "# Sampling 3D Points\n",
    "\n",
    "Now that we have the extracted the polygons, we need to sample random 3D points. Currently we don't know suitable ranges for x, y, and z. Let's figure out the max and min values for each dimension."
   ]
  },
  {
   "cell_type": "code",
   "execution_count": 86,
   "metadata": {},
   "outputs": [
    {
     "name": "stdout",
     "output_type": "stream",
     "text": [
      "X\n",
      "min = -315.2389, max = 604.7611\n",
      "\n",
      "Y\n",
      "min = -444.2315, max = 475.7685\n",
      "\n",
      "Z\n",
      "min = 0, max = 10\n"
     ]
    }
   ],
   "source": [
    "xmin = np.min(data[:, 0] - data[:, 3])\n",
    "xmax = np.max(data[:, 0] + data[:, 3])\n",
    "\n",
    "ymin = np.min(data[:, 1] - data[:, 4])\n",
    "ymax = np.max(data[:, 1] + data[:, 4])\n",
    "\n",
    "zmin = 0\n",
    "# Limit the z axis for the visualization\n",
    "zmax = 10\n",
    "\n",
    "print(\"X\")\n",
    "print(\"min = {0}, max = {1}\\n\".format(xmin, xmax))\n",
    "\n",
    "print(\"Y\")\n",
    "print(\"min = {0}, max = {1}\\n\".format(ymin, ymax))\n",
    "\n",
    "print(\"Z\")\n",
    "print(\"min = {0}, max = {1}\".format(zmin, zmax))"
   ]
  },
  {
   "cell_type": "markdown",
   "metadata": {},
   "source": [
    "Next, it's time to sample points. All that's left is picking the distribution and number of samples. The uniform distribution makes sense in this situation since we we'd like to encourage searching the whole space."
   ]
  },
  {
   "cell_type": "code",
   "execution_count": 87,
   "metadata": {},
   "outputs": [],
   "source": [
    "num_samples = 1000\n",
    "\n",
    "xvals = np.random.uniform(xmin, xmax, num_samples)\n",
    "yvals = np.random.uniform(ymin, ymax, num_samples)\n",
    "zvals = np.random.uniform(zmin, zmax, num_samples)\n",
    "\n",
    "samples = list(zip(xvals, yvals, zvals))"
   ]
  },
  {
   "cell_type": "code",
   "execution_count": 88,
   "metadata": {},
   "outputs": [
    {
     "data": {
      "text/plain": [
       "[(-306.791559583135, -93.21712189002801, 4.580535030512847),\n",
       " (3.5269615767888354, 195.42415598585467, 9.229598781140545),\n",
       " (148.20530805206135, 13.957647040971437, 9.988440334571877),\n",
       " (541.8055270113191, 343.74604222336836, 0.7017735686877857),\n",
       " (271.7388941526577, -265.87724739083444, 3.719948262108711),\n",
       " (425.88465104679125, 394.38308826795924, 9.214688234292689),\n",
       " (268.12521449084494, 51.671526442636605, 7.584870448783548),\n",
       " (-122.00809467873665, -41.72047927054189, 9.883250217058382),\n",
       " (57.67943865187664, -253.8540060532127, 2.159719263391665),\n",
       " (227.18092712232766, 238.71365059409175, 8.624955256559101)]"
      ]
     },
     "execution_count": 88,
     "metadata": {},
     "output_type": "execute_result"
    }
   ],
   "source": [
    "samples[:10]"
   ]
  },
  {
   "cell_type": "markdown",
   "metadata": {},
   "source": [
    "## Removing Points Colliding With Obstacles\n",
    "\n",
    "Prior to remove a point we must determine whether it collides with any obstacle. Complete the `collides` function below. It should return `True` if the point collides with *any* obstacle and `False` if no collision is detected."
   ]
  },
  {
   "cell_type": "code",
   "execution_count": 89,
   "metadata": {},
   "outputs": [],
   "source": [
    "def collides(polygons, point):   \n",
    "    for obstacle in polygons:\n",
    "        p, height = obstacle\n",
    "        if p.contains(Point(point[0], point[1])) and point[2] <= height:\n",
    "            return True\n",
    "    return False"
   ]
  },
  {
   "cell_type": "markdown",
   "metadata": {},
   "source": [
    "Use `collides` for all points in the sample."
   ]
  },
  {
   "cell_type": "code",
   "execution_count": 90,
   "metadata": {},
   "outputs": [
    {
     "name": "stdout",
     "output_type": "stream",
     "text": [
      "Time taken {0} seconds ... 50.01853132247925\n"
     ]
    }
   ],
   "source": [
    "t0 = time.time()\n",
    "to_keep = []\n",
    "to_discard = []\n",
    "for point in samples:\n",
    "    if not collides(polygons, point):\n",
    "        to_keep.append(point)\n",
    "    else:\n",
    "        to_discard.append(point)\n",
    "time_taken = time.time() - t0\n",
    "print(\"Time taken {0} seconds ...\", time_taken)"
   ]
  },
  {
   "cell_type": "code",
   "execution_count": 91,
   "metadata": {},
   "outputs": [
    {
     "name": "stdout",
     "output_type": "stream",
     "text": [
      "825\n",
      "175\n"
     ]
    }
   ],
   "source": [
    "print(len(to_keep))\n",
    "print(len(to_discard))"
   ]
  },
  {
   "cell_type": "markdown",
   "metadata": {},
   "source": [
    "## Points Visualization"
   ]
  },
  {
   "cell_type": "code",
   "execution_count": 92,
   "metadata": {},
   "outputs": [],
   "source": [
    "from grid import create_grid\n",
    "grid = create_grid(data, zmax, 1)"
   ]
  },
  {
   "cell_type": "code",
   "execution_count": 93,
   "metadata": {},
   "outputs": [
    {
     "data": {
      "image/png": "[encoded data removed]",
      "text/plain": [
       "<matplotlib.figure.Figure at 0x245c2832a20>"
      ]
     },
     "metadata": {
      "needs_background": "light"
     },
     "output_type": "display_data"
    }
   ],
   "source": [
    "fig = plt.figure()\n",
    "\n",
    "plt.imshow(grid, cmap='Greys', origin='lower')\n",
    "\n",
    "nmin = np.min(data[:, 0])\n",
    "emin = np.min(data[:, 1])\n",
    "\n",
    "# draw points\n",
    "all_pts = np.array(to_keep)\n",
    "north_vals = all_pts[:,0]\n",
    "east_vals = all_pts[:,1]\n",
    "plt.scatter(east_vals - emin, north_vals - nmin, c='green')\n",
    "\n",
    "all_pts2 = np.array(to_discard)\n",
    "north_vals2 = all_pts2[:,0]\n",
    "east_vals2 = all_pts2[:,1]\n",
    "plt.scatter(east_vals2 - emin, north_vals2 - nmin, c='red')\n",
    "\n",
    "plt.ylabel('NORTH')\n",
    "plt.xlabel('EAST')\n",
    "\n",
    "plt.show()"
   ]
  },
  {
   "cell_type": "markdown",
   "metadata": {},
   "source": [
    "[Solution](/notebooks/Random-Sampling-Solution.ipynb)"
   ]
  },
  {
   "cell_type": "markdown",
   "metadata": {},
   "source": [
    "## Epilogue\n",
    "\n",
    "You may have noticed removing points can be quite lengthy. In the implementation provided here we're naively checking to see if the point collides with each polygon when in reality it can only collide with one, the one that's closest to the point. The question then becomes \n",
    "\n",
    "\"How do we efficiently find the closest polygon to the point?\"\n",
    "\n",
    "One such approach is to use a *[k-d tree](https://en.wikipedia.org/wiki/K-d_tree)*, a space-partitioning data structure which allows search queries in $O(log(n))$. The *k-d tree* achieves this by cutting the search space in half on each step of a query.\n",
    "\n",
    "This would bring the total algorithm time down to $O(m * log(n))$ from $O(m*n)$.\n",
    "\n",
    "The scikit-learn library has an efficient implementation [readily available](http://scikit-learn.org/stable/modules/generated/sklearn.neighbors.KDTree.html#sklearn.neighbors.KDTree)."
   ]
  },
  {
   "cell_type": "code",
   "execution_count": null,
   "metadata": {},
   "outputs": [],
   "source": []
  },
  {
   "cell_type": "code",
   "execution_count": null,
   "metadata": {},
   "outputs": [],
   "source": []
  }
 ],
 "metadata": {
  "kernelspec": {
   "display_name": "Python 3",
   "language": "python",
   "name": "python3"
  },
  "language_info": {
   "codemirror_mode": {
    "name": "ipython",
    "version": 3
   },
   "file_extension": ".py",
   "mimetype": "text/x-python",
   "name": "python",
   "nbconvert_exporter": "python",
   "pygments_lexer": "ipython3",
   "version": "3.6.3"
  }
 },
 "nbformat": 4,
 "nbformat_minor": 2
}
