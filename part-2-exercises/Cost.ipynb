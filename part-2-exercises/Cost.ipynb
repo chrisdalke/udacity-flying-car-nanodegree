{
 "cells": [
  {
   "cell_type": "markdown",
   "metadata": {},
   "source": [
    "# Uniform Cost Search"
   ]
  },
  {
   "cell_type": "markdown",
   "metadata": {},
   "source": [
    "In this exercise you'll implement extend breadth-first search by incorporating a cost for each action."
   ]
  },
  {
   "cell_type": "code",
   "execution_count": 114,
   "metadata": {},
   "outputs": [],
   "source": [
    "from queue import Queue, PriorityQueue\n",
    "import numpy as np\n",
    "from enum import Enum\n",
    "import math"
   ]
  },
  {
   "cell_type": "markdown",
   "metadata": {},
   "source": [
    "https://wiki.python.org/moin/TimeComplexity gives a solid overview of Python data structures and their time complexity. \n",
    "\n",
    "Is there a data structure more suitable for this task than a `Queue`?"
   ]
  },
  {
   "cell_type": "markdown",
   "metadata": {},
   "source": [
    "* [`Enum`](https://docs.python.org/3/library/enum.html#module-enum) is used to represent possible actions on the grid."
   ]
  },
  {
   "cell_type": "code",
   "execution_count": 115,
   "metadata": {},
   "outputs": [],
   "source": [
    "class Action(Enum):\n",
    "    \"\"\"\n",
    "    An action is represented by a 3 element tuple.\n",
    "    \n",
    "    The first 2 values are the delta of the action relative\n",
    "    to the current grid position. The third and final value\n",
    "    is the cost of performing the action.\n",
    "    \"\"\"\n",
    "    LEFT = (0, -1, 1)\n",
    "    RIGHT = (0, 1, 1)\n",
    "    UP = (-1, 0, 1)\n",
    "    DOWN = (1, 0, 1)\n",
    "    UP_LEFT = (-1, -1, math.sqrt(2))\n",
    "    UP_RIGHT = (-1, 1, math.sqrt(2))\n",
    "    DOWN_LEFT = (1, -1, math.sqrt(2))\n",
    "    DOWN_RIGHT = (1, 1, math.sqrt(2))\n",
    "    \n",
    "    def __str__(self):\n",
    "        if self == self.LEFT:\n",
    "            return '<'\n",
    "        elif self == self.RIGHT:\n",
    "            return '>'\n",
    "        elif self == self.UP:\n",
    "            return '^'\n",
    "        elif self == self.DOWN:\n",
    "            return 'v'\n",
    "        elif self == self.UP_LEFT:\n",
    "            return '<'\n",
    "        elif self == self.UP_RIGHT:\n",
    "            return '>'\n",
    "        elif self == self.DOWN_LEFT:\n",
    "            return '<'\n",
    "        elif self == self.DOWN_RIGHT:\n",
    "            return '>'\n",
    "    \n",
    "    @property\n",
    "    def cost(self):\n",
    "        return self.value[2]\n",
    "    \n",
    "    @property\n",
    "    def delta(self):\n",
    "        return (self.value[0], self.value[1])\n",
    "            \n",
    "    \n",
    "def valid_actions(grid, current_node):\n",
    "    \"\"\"\n",
    "    Returns a list of valid actions given a grid and current node.\n",
    "    \"\"\"\n",
    "    valid = [Action.UP, Action.LEFT, Action.RIGHT, Action.DOWN, Action.UP_LEFT, Action.UP_RIGHT, Action.DOWN_LEFT, Action.DOWN_RIGHT]\n",
    "    m, n = grid.shape[0] - 1, grid.shape[1] - 1\n",
    "    y, x = current_node\n",
    "    \n",
    "    # check if the node is off the grid or\n",
    "    # it's an obstacle\n",
    "    \n",
    "    if x - 1 < 0 or grid[y, x-1] == 1:\n",
    "        valid.remove(Action.LEFT)\n",
    "    if x + 1 > n or grid[y, x+1] == 1:\n",
    "        valid.remove(Action.RIGHT)\n",
    "    if y - 1 < 0 or grid[y-1, x] == 1:\n",
    "        valid.remove(Action.UP)\n",
    "    if y + 1 > m or grid[y+1, x] == 1:\n",
    "        valid.remove(Action.DOWN)\n",
    "    if (x - 1 < 0 or y - 1 < 0) or grid[y-1, x-1] == 1:\n",
    "        valid.remove(Action.UP_LEFT)\n",
    "    if (x + 1 > n or y - 1 < 0) or grid[y-1, x+1] == 1:\n",
    "        valid.remove(Action.UP_RIGHT)\n",
    "    if (x - 1 < 0 or y + 1 > m) or grid[y+1, x-1] == 1:\n",
    "        valid.remove(Action.DOWN_LEFT)\n",
    "    if (x + 1 > n or y + 1 > m) or grid[y+1, x+1] == 1:\n",
    "        valid.remove(Action.DOWN_RIGHT)\n",
    "    print(valid)\n",
    "        \n",
    "        \n",
    "    return valid\n",
    "\n",
    "def visualize_path(grid, path, start):\n",
    "    sgrid = np.zeros(np.shape(grid), dtype=np.str)\n",
    "    sgrid[:] = ' '\n",
    "    sgrid[grid[:] == 1] = 'O'\n",
    "    \n",
    "    pos = start\n",
    "    \n",
    "    for a in path:\n",
    "        da = a.value\n",
    "        sgrid[pos[0], pos[1]] = str(a)\n",
    "        pos = (pos[0] + da[0], pos[1] + da[1])\n",
    "    sgrid[pos[0], pos[1]] = 'G'\n",
    "    sgrid[start[0], start[1]] = 'S'  \n",
    "    return sgrid"
   ]
  },
  {
   "cell_type": "markdown",
   "metadata": {},
   "source": [
    "### Cost Search\n",
    "\n",
    "In this section you will extend the breadth-first search algorithm by incorporating a cost for each action. Your task is to compute the lowest cost path. Does this change the data structures you should use?\n",
    "\n",
    "You will need to implement the remaining `TODOs`."
   ]
  },
  {
   "cell_type": "code",
   "execution_count": 116,
   "metadata": {},
   "outputs": [],
   "source": [
    "def uniform_cost(grid, start, goal):\n",
    "\n",
    "    # TODO: Initialize the starting variables\n",
    "    path = []\n",
    "    queue = PriorityQueue()\n",
    "    visited = set()\n",
    "    branch = {}\n",
    "    found = False\n",
    "    \n",
    "    # Priority queue stores the position and the cost it took to get to that position\n",
    "    queue.put((0, start))\n",
    "    visited.add(start)\n",
    "    \n",
    "    while not queue.empty():\n",
    "        current_node = queue.get()\n",
    "        print(current_node)\n",
    "        current_cost = current_node[0]\n",
    "        current_pos = current_node[1]\n",
    "\n",
    "        if current_pos == goal:        \n",
    "            print('Found a path.')\n",
    "            found = True\n",
    "            break\n",
    "        else:\n",
    "            for action in valid_actions(grid, current_pos):\n",
    "                delta_pos = action.delta\n",
    "                new_pos = (current_pos[0] + delta_pos[0], current_pos[1] + delta_pos[1])\n",
    "                new_cost = (current_cost + action.cost)\n",
    "            \n",
    "                if new_pos not in visited:\n",
    "                    visited.add(new_pos)\n",
    "                    queue.put((new_cost, new_pos))\n",
    "                    branch[new_pos] = (new_cost, current_pos, action)\n",
    "             \n",
    "    path = []\n",
    "    path_cost = 0\n",
    "    if found:\n",
    "        \n",
    "        # retrace steps\n",
    "        path = []\n",
    "        n = goal\n",
    "        path_cost = branch[n][0]\n",
    "        while branch[n][1] != start:\n",
    "            path.append(branch[n][2])\n",
    "            n = branch[n][1]\n",
    "        path.append(branch[n][2])\n",
    "            \n",
    "    return path[::-1], path_cost"
   ]
  },
  {
   "cell_type": "markdown",
   "metadata": {},
   "source": [
    "### Executing the search\n",
    "\n",
    "Run `uniform_cost()` and reference the grid to see if the path makes sense."
   ]
  },
  {
   "cell_type": "code",
   "execution_count": 117,
   "metadata": {},
   "outputs": [],
   "source": [
    "start = (0, 0)\n",
    "goal = (4, 4)\n",
    "\n",
    "grid = np.array([\n",
    "    [0, 1, 0, 0, 0, 0],\n",
    "    [0, 1, 0, 1, 0, 0],\n",
    "    [0, 1, 0, 0, 0, 0],\n",
    "    [0, 1, 0, 0, 1, 0],\n",
    "    [0, 0, 0, 1, 0, 0],\n",
    "])"
   ]
  },
  {
   "cell_type": "code",
   "execution_count": 118,
   "metadata": {},
   "outputs": [
    {
     "name": "stdout",
     "output_type": "stream",
     "text": [
      "(0, (0, 0))\n",
      "[<Action.DOWN: (1, 0, 1)>]\n",
      "(1, (1, 0))\n",
      "[<Action.UP: (-1, 0, 1)>, <Action.DOWN: (1, 0, 1)>]\n",
      "(2, (2, 0))\n",
      "[<Action.UP: (-1, 0, 1)>, <Action.DOWN: (1, 0, 1)>]\n",
      "(3, (3, 0))\n",
      "[<Action.UP: (-1, 0, 1)>, <Action.DOWN: (1, 0, 1)>, <Action.DOWN_RIGHT: (1, 1, 1.4142135623730951)>]\n",
      "(4, (4, 0))\n",
      "[<Action.UP: (-1, 0, 1)>, <Action.RIGHT: (0, 1, 1)>]\n",
      "(4.414213562373095, (4, 1))\n",
      "[<Action.LEFT: (0, -1, 1)>, <Action.RIGHT: (0, 1, 1)>, <Action.UP_LEFT: (-1, -1, 1.4142135623730951)>, <Action.UP_RIGHT: (-1, 1, 1.4142135623730951)>]\n",
      "(5.414213562373095, (4, 2))\n",
      "[<Action.UP: (-1, 0, 1)>, <Action.LEFT: (0, -1, 1)>, <Action.UP_RIGHT: (-1, 1, 1.4142135623730951)>]\n",
      "(5.82842712474619, (3, 2))\n",
      "[<Action.UP: (-1, 0, 1)>, <Action.RIGHT: (0, 1, 1)>, <Action.DOWN: (1, 0, 1)>, <Action.UP_RIGHT: (-1, 1, 1.4142135623730951)>, <Action.DOWN_LEFT: (1, -1, 1.4142135623730951)>]\n",
      "(6.82842712474619, (2, 2))\n",
      "[<Action.UP: (-1, 0, 1)>, <Action.RIGHT: (0, 1, 1)>, <Action.DOWN: (1, 0, 1)>, <Action.DOWN_RIGHT: (1, 1, 1.4142135623730951)>]\n",
      "(6.82842712474619, (3, 3))\n",
      "[<Action.UP: (-1, 0, 1)>, <Action.LEFT: (0, -1, 1)>, <Action.UP_LEFT: (-1, -1, 1.4142135623730951)>, <Action.UP_RIGHT: (-1, 1, 1.4142135623730951)>, <Action.DOWN_LEFT: (1, -1, 1.4142135623730951)>, <Action.DOWN_RIGHT: (1, 1, 1.4142135623730951)>]\n",
      "(7.242640687119285, (2, 3))\n",
      "[<Action.LEFT: (0, -1, 1)>, <Action.RIGHT: (0, 1, 1)>, <Action.DOWN: (1, 0, 1)>, <Action.UP_LEFT: (-1, -1, 1.4142135623730951)>, <Action.UP_RIGHT: (-1, 1, 1.4142135623730951)>, <Action.DOWN_LEFT: (1, -1, 1.4142135623730951)>]\n",
      "(7.82842712474619, (1, 2))\n",
      "[<Action.UP: (-1, 0, 1)>, <Action.DOWN: (1, 0, 1)>, <Action.UP_RIGHT: (-1, 1, 1.4142135623730951)>, <Action.DOWN_RIGHT: (1, 1, 1.4142135623730951)>]\n",
      "(8.242640687119286, (2, 4))\n",
      "[<Action.UP: (-1, 0, 1)>, <Action.LEFT: (0, -1, 1)>, <Action.RIGHT: (0, 1, 1)>, <Action.UP_RIGHT: (-1, 1, 1.4142135623730951)>, <Action.DOWN_LEFT: (1, -1, 1.4142135623730951)>, <Action.DOWN_RIGHT: (1, 1, 1.4142135623730951)>]\n",
      "(8.242640687119286, (4, 4))\n",
      "Found a path.\n",
      "8.242640687119286 [<Action.DOWN: (1, 0, 1)>, <Action.DOWN: (1, 0, 1)>, <Action.DOWN: (1, 0, 1)>, <Action.DOWN_RIGHT: (1, 1, 1.4142135623730951)>, <Action.RIGHT: (0, 1, 1)>, <Action.UP_RIGHT: (-1, 1, 1.4142135623730951)>, <Action.DOWN_RIGHT: (1, 1, 1.4142135623730951)>]\n"
     ]
    }
   ],
   "source": [
    "path, path_cost = uniform_cost(grid, start, goal)\n",
    "print(path_cost, path)"
   ]
  },
  {
   "cell_type": "code",
   "execution_count": 119,
   "metadata": {},
   "outputs": [
    {
     "data": {
      "text/plain": [
       "array([['S', 'O', ' ', ' ', ' ', ' '],\n",
       "       ['v', 'O', ' ', 'O', ' ', ' '],\n",
       "       ['v', 'O', ' ', ' ', ' ', ' '],\n",
       "       ['>', 'O', ' ', '>', 'O', ' '],\n",
       "       [' ', '>', '>', 'O', 'G', ' ']], dtype='<U1')"
      ]
     },
     "execution_count": 119,
     "metadata": {},
     "output_type": "execute_result"
    }
   ],
   "source": [
    "# S -> start, G -> goal, O -> obstacle\n",
    "visualize_path(grid, path, start)"
   ]
  },
  {
   "cell_type": "markdown",
   "metadata": {},
   "source": [
    "[Solution](/notebooks/Cost-Solution.ipynb)"
   ]
  },
  {
   "cell_type": "code",
   "execution_count": null,
   "metadata": {},
   "outputs": [],
   "source": []
  }
 ],
 "metadata": {
  "kernelspec": {
   "display_name": "Python 3",
   "language": "python",
   "name": "python3"
  },
  "language_info": {
   "codemirror_mode": {
    "name": "ipython",
    "version": 3
   },
   "file_extension": ".py",
   "mimetype": "text/x-python",
   "name": "python",
   "nbconvert_exporter": "python",
   "pygments_lexer": "ipython3",
   "version": "3.6.3"
  }
 },
 "nbformat": 4,
 "nbformat_minor": 2
}
