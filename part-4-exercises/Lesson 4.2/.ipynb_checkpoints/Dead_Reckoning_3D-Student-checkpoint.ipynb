{
 "cells": [
  {
   "cell_type": "markdown",
   "metadata": {},
   "source": [
    "# Dead Reckoning In 3D\n",
    "\n",
    "In this exercise, the drone moves in a 3D environment on a periodic path. The state is inferred from IMU measurements. These measurements are obtained through gyroscope and accelerometer sensors. The gyroscope outputs $\\theta$ and $\\phi$ while the accelerometer outputs $a_x$, $a_y$ and $a_z$ in the body frame. \n",
    "\n",
    "The state vector for the object can be expressed as $X=[x,y,z,\\theta,\\phi,\\dot{x},\\dot{y},\\dot{z}]$. **We'll assume $\\psi$ is always 0.**\n",
    "\n",
    "<img src=\"Drone3D2.png\" width=\"600\">"
   ]
  },
  {
   "cell_type": "code",
   "execution_count": null,
   "metadata": {
    "collapsed": true
   },
   "outputs": [],
   "source": [
    "%matplotlib inline \n",
    "%config InlineBackend.figure_format = 'retina'\n",
    "\n",
    "import numpy as np \n",
    "import math\n",
    "from math import sin, cos, tan\n",
    "import matplotlib.pyplot as plt\n",
    "import matplotlib.pylab as pylab\n",
    "from mpl_toolkits.mplot3d import Axes3D\n",
    "import jdc\n",
    "import random\n",
    "from test_three_d_object import TestCode\n",
    "\n",
    "pylab.rcParams['figure.figsize'] = 10, 10"
   ]
  },
  {
   "cell_type": "markdown",
   "metadata": {},
   "source": [
    "First, we describe the properties of the object and all the functions that it will need to track its position based on the IMU measurements. The state function tracks the position, velocity in three dimensions and the attitude of the drone $X=[x,y,z,\\theta,\\phi,\\dot{x},\\dot{y},\\dot{z}]$. We also would require the function which will provide us with the rotation matrix allowing us to transform the state, measured in body frame, into the global frame (`rotation_matrix` is already provided). \n",
    "\n",
    "The conversion of the instantaneous turn rate in the body frame to an instantaneous change in the Euler angles is achieved by matrix multiplication.\n",
    "\n",
    "$$\n",
    "\\begin{pmatrix} \\dot{\\phi} \\\\ \\dot{\\theta} \\end{pmatrix} = \\begin{pmatrix} 1 & \\sin{\\phi}\\tan{\\theta} \\\\ 0 & \\cos{\\phi}  \\end{pmatrix} \\times \\begin{pmatrix} p \\\\ q  \\end{pmatrix}\n",
    "$$\n",
    "\n",
    "`advance_state` updates the position of, and then the attitude of the drone.\n",
    "\n",
    "**NOTE:** The chosen method is the simplest to illustrate but it generates the biggest computational error. We encourage you to explore other computational integration methods. \n"
   ]
  },
  {
   "cell_type": "code",
   "execution_count": null,
   "metadata": {
    "collapsed": true
   },
   "outputs": [],
   "source": [
    "class ObjectInThreeD:\n",
    "    \n",
    "    def __init__(self):\n",
    "        '''\n",
    "        Initialize the object with zero state space and the gravity constant\n",
    "        '''\n",
    "        \n",
    "        self.X = np.zeros((8, 1))\n",
    "        self.g = 9.81 * np.array([[0], [0], [-1]])# The opposite of the gravity thus directed opposite of the z-axis. \n",
    "        \n",
    "    \n",
    "    def rotation_matrix(self, phi, theta):\n",
    "        '''\n",
    "        Generates the rotation matrix for the given roll and pitch angles\n",
    "        The yaw angle is assumed to be equal to zero. \n",
    "        '''\n",
    "        \n",
    "        psi = 0.0 \n",
    "        r_x = np.array([[1, 0, 0],\n",
    "                        [0, np.cos(phi), -np.sin(phi)],\n",
    "                        [0, np.sin(phi), np.cos(phi)]])\n",
    "\n",
    "        r_y = np.array([[np.cos(theta), 0, np.sin(theta)],\n",
    "                        [0, 1, 0],\n",
    "                        [-np.sin(theta), 0, np.cos(theta)]])\n",
    "\n",
    "        r_z = np.array([[np.cos(psi), -np.sin(psi), 0],\n",
    "                        [np.sin(psi), np.cos(psi), 0],\n",
    "                        [0, 0, 1]])\n",
    "\n",
    "        r = np.matmul(r_z, np.matmul(r_y, r_x))\n",
    "\n",
    "        return r \n",
    "\n",
    "\n",
    "    def get_euler_derivatives(self, phi, theta, p, q):\n",
    "        '''\n",
    "        Converts the measured body rates into the Euler angle derivatives using the estimated pitch and roll angles.\n",
    "        '''\n",
    "        # TODO: Calculate the Derivatives for the Euler angles in the inertial frame \n",
    "        euler_rot_mat= None\n",
    "        derivatives_in_bodyframe = None\n",
    "        euler_dot = None\n",
    "\n",
    "        return euler_dot\n",
    "\n",
    "\n",
    "    def linear_acceleration(self, measured_acceleration, phi, theta):\n",
    "        '''\n",
    "        Calculates the true accelerations in the inertial frame of reference based \n",
    "        on the measured values and the estimated roll and pitch angles. \n",
    "        '''\n",
    "        # TODO: Calculate the true acceleration in body frame by removing the gravity component\n",
    "        a_body_frame = None\n",
    "\n",
    "        # TODO: Convert the true acceleration back to the inertial frame\n",
    "        a_inertial_frame = None\n",
    "\n",
    "        return a_inertial_frame\n",
    "    \n",
    "    def dead_reckoning_orientation(self, p, q, dt):\n",
    "        '''\n",
    "        Updates the orientation of the drone for the measured body rates\n",
    "        '''\n",
    "        # TODO: Update the state vector component of roll and pitch angles\n",
    "        phi = self.X[4]\n",
    "        theta = self.X[3]\n",
    "\n",
    "        euler_dot = None\n",
    "        self.X[3] = None         # integrating the roll angle \n",
    "        self.X[4] = None         # integrating the roll angle \n",
    "        \n",
    "        \n",
    "    def dead_reckoning_position(self, measured_acceleration, dt):\n",
    "        '''\n",
    "        Updates the position and the linear velocity in the inertial frame based on the measured accelerations\n",
    "        '''\n",
    "        perceived_phi = self.X[4]\n",
    "        perceived_theta = self.X[3]\n",
    "\n",
    "        # TODO: Conver the body frame acceleration measurements back to the inertial frame measurements\n",
    "        a = None\n",
    "\n",
    "        # TODO: \n",
    "        # Use the velocity components of the state vector to update the position components of the state vector\n",
    "        # Use the linear acceleration in the inertial frame to update the velocity components of the state vector\n",
    "\n",
    "        self.X[0] = None   # x coordinate x = x + \\dot{x} * dt\n",
    "        self.X[1] = None   # y coordinate y = y + \\dot{y} * dt\n",
    "        self.X[2] = None   # z coordinate z = z + \\dot{z} * dt\n",
    "        self.X[5] = None   # change in velocity along the x is a_x * dt \n",
    "        self.X[6] = None   # change in velocity along the y is a_y * dt \n",
    "        self.X[7] = None   # change in velocity along the z is a_z * dt \n",
    "        \n",
    "    def advance_state(self, measured_acceleration, p, q, dt): \n",
    "        '''\n",
    "        The function of the advance state updated the position of the drone \n",
    "        in the inertial frame and then the drone attitude.\n",
    "        '''\n",
    "\n",
    "        # Advance the position \n",
    "        self.dead_reckoning_position(measured_acceleration, dt)\n",
    "\n",
    "        # Advance the attitude \n",
    "        self.dead_reckoning_orientation(p, q, dt)\n",
    "\n",
    "        return self.X "
   ]
  },
  {
   "cell_type": "markdown",
   "metadata": {},
   "source": [
    "We can test `linear_acceleration` to make sure it calculates the linear acceleration in the inertial frame based on the measured acceleration, and roll/pitch angles in the body frame."
   ]
  },
  {
   "cell_type": "code",
   "execution_count": null,
   "metadata": {
    "collapsed": true
   },
   "outputs": [],
   "source": [
    "phi_test = 0.1 \n",
    "theta_test = 0.1\n",
    "measured_acceleration = np.array([[0.1], [0.2], [10.1]])\n",
    "ThreeDObject = ObjectInThreeD()\n",
    "\n",
    "TestCode.test_the_linear_acceleration(ThreeDObject.linear_acceleration(measured_acceleration, \n",
    "                                                                       phi_test, \n",
    "                                                                       theta_test),\n",
    "                                      measured_acceleration, phi_test, theta_test)"
   ]
  },
  {
   "cell_type": "markdown",
   "metadata": {},
   "source": [
    "We will load the periodic motion path that will be used to generate the flight path. The roll and pitch angles are calculated based on the path and represent the true values that the drone should have had in order to execute the given flight. "
   ]
  },
  {
   "cell_type": "code",
   "execution_count": null,
   "metadata": {
    "collapsed": true
   },
   "outputs": [],
   "source": [
    "from flightpath3D import flight_path\n",
    "t, dt, x, x_dot, x_dot_dot, y, y_dot, y_dot_dot, z, z_dot, z_dot_dot, phi, phi_dot, theta, theta_dot = flight_path()"
   ]
  },
  {
   "cell_type": "markdown",
   "metadata": {},
   "source": [
    "Plotting the executed path."
   ]
  },
  {
   "cell_type": "code",
   "execution_count": null,
   "metadata": {
    "collapsed": true
   },
   "outputs": [],
   "source": [
    "fig = plt.figure()\n",
    "ax = fig.gca(projection='3d')\n",
    "ax.plot(x, y, z)\n",
    "plt.title('Flight path').set_fontsize(20)\n",
    "ax.set_xlabel('$x$ [$m$]').set_fontsize(20)\n",
    "ax.set_ylabel('$y$ [$m$]').set_fontsize(20)\n",
    "ax.set_zlabel('$z$ [$m$]').set_fontsize(20)\n",
    "plt.legend(['Executed path'],fontsize = 14)\n",
    "\n",
    "plt.show()"
   ]
  },
  {
   "cell_type": "markdown",
   "metadata": {},
   "source": [
    "# IMU \n",
    "We will create the IMU class which will simulate the sensor measurements. Doing this we will get a better understanding of the underlying mathematics. \n",
    "We declare the acceleration and angular velocity measurement uncertainties for our sensor, and introduce the gravity vector which is directed up $\\vec{g}=[0,0,-g]$ as the IMU measures reactive force against the gravity which is directed up. \n",
    "\n",
    "The Linear acceleration can be modeled as \n",
    "\n",
    "$$\n",
    "a_{effective} = a^{(g)}+a^{(l)}\n",
    "$$\n",
    "\n",
    "where $a^{(g)}$ is the acceleration associated with the reactive force due to gravity and $a^{(l)}$ motion acceleration in the inertial frame. \n",
    "\n",
    "Knowing the real $\\phi$ and $\\theta$, the effective acceleration can be converted into a body frame $a_{body}$\n",
    "after transformation noise can be added.\n",
    "\n",
    "$$\n",
    "\\tilde{a}_{body} = a_{body} + \\eta_{a}, \\quad \\eta_{a} \\sim N(0,\\sigma^2_{a})\n",
    "$$\n",
    "\n",
    "The conversion of the instantaneous turn rate in the body frame to an instantaneous change of the Euler angles is obtained by matrix multiplication.\n",
    "\n",
    "$$\n",
    "\\begin{pmatrix} \\dot{\\phi} \\\\ \\dot{\\theta} \\end{pmatrix} = \\begin{pmatrix} 1 & \\sin{\\phi}\\tan{\\theta} \\\\ 0 & \\cos{\\phi}  \\end{pmatrix} \\times \\begin{pmatrix} p \\\\ q  \\end{pmatrix}\n",
    "$$\n",
    "\n",
    "Expressing the conversion matrix as \n",
    "\n",
    "$$\n",
    "R_{gyro} = \\begin{pmatrix} 1 & \\sin{\\phi}\\tan{\\theta} \\\\ 0 & \\cos{\\phi}  \\end{pmatrix}\n",
    "$$\n",
    "\n",
    "Thus \n",
    "$$\n",
    "R_{gyro}^{-1}\\begin{pmatrix} \\dot{\\phi} \\\\ \\dot{\\theta} \\end{pmatrix} = R_{gyro}^{-1} R_{gyro} \\begin{pmatrix} p \\\\ q  \\end{pmatrix} = I \\begin{pmatrix} p \\\\ q  \\end{pmatrix} \n",
    "$$\n",
    "\n",
    "The final equation shows that knowing the roll and pitch angles, we can calculate the angular velocities in body frames if we know the change in the attitude. "
   ]
  },
  {
   "cell_type": "code",
   "execution_count": null,
   "metadata": {
    "collapsed": true
   },
   "outputs": [],
   "source": [
    "class IMU:\n",
    "    \n",
    "    def __init__(self,\n",
    "                 sigma_a = 0.0001,          # An error of acceleration measurement\n",
    "                 sigma_omega = 0.00001      # An error of angular velocity measurement\n",
    "                ):\n",
    "        '''\n",
    "        Initializing the IMU object with the sigma values associated \n",
    "        to the measuring the accelerations in the body frame and \n",
    "        the angular velocities p, q, and r. Even though that in this \n",
    "        exercise we assume yaw is zero for all times.\n",
    "        '''\n",
    "        self.sigma_a  = sigma_a\n",
    "        self.sigma_omega = sigma_omega\n",
    "        self.g = 9.81 * np.array([[0], [0], [-1]]) # The opposite of the gravity thus directed opposite of the z-axis. \n",
    "    \n",
    "    def rotation_matrix(self,phi,theta):\n",
    "        '''\n",
    "        Returns the rotation matrix for the given roll and pitch angles (Yaw is zero).\n",
    "        '''\n",
    "        \n",
    "        psi = 0.0 \n",
    "        r_x = np.array([[1, 0, 0],\n",
    "                        [0, np.cos(phi), -np.sin(phi)],\n",
    "                        [0, np.sin(phi), np.cos(phi)]])\n",
    "\n",
    "        r_y = np.array([[np.cos(theta), 0, np.sin(theta)],\n",
    "                        [0, 1, 0],\n",
    "                        [-np.sin(theta), 0, np.cos(theta)]])\n",
    "\n",
    "        r_z = np.array([[np.cos(psi), -np.sin(psi), 0],\n",
    "                        [np.sin(psi), np.cos(psi), 0],\n",
    "                        [0,0,1]])\n",
    "\n",
    "        r = np.matmul(r_z,np.matmul(r_y,r_x))\n",
    "\n",
    "        return r \n",
    "    \n",
    "    def accelerometer_measurement(self, actual_a, phi, theta):\n",
    "        '''\n",
    "        Simulates the measurements of the accelerations in the body frame \n",
    "        based on the actual linear acceleration and for the actual roll and pitch angles.\n",
    "        '''\n",
    "        # TODO: Convert global frame acceleration into the body frame acceleration\n",
    "        actual_a = actual_a.reshape(3, 1)\n",
    "        linear_acc_bodyframe = None\n",
    "\n",
    "        # TODO: Gravity component of the measurement\n",
    "        gravity_component = None\n",
    "\n",
    "        # TODO: Error component of the measurement\n",
    "        error_component = None\n",
    "\n",
    "        measured_acceleration = linear_acc_bodyframe + gravity_component + error_component\n",
    "\n",
    "        return measured_acceleration\n",
    "    \n",
    "    def gyroscope_measurement(self, phi, theta, phi_dot, theta_dot):\n",
    "        '''\n",
    "        Simulates the gyroscope measurements for the actual change in roll and pitch angles.\n",
    "        '''\n",
    "        # TODO: Implement the Conversion matrix \n",
    "        R = None\n",
    "\n",
    "        # TODO: Calculate the body rate p and q true values \n",
    "        body_rate = None\n",
    "\n",
    "        # TODO: Add an error to the true body rates\n",
    "        measured_bodyrates = None\n",
    "\n",
    "        return measured_bodyrates"
   ]
  },
  {
   "cell_type": "markdown",
   "metadata": {},
   "source": [
    "Testing `accelerometer_measurement` and `gyroscope_measurement`."
   ]
  },
  {
   "cell_type": "code",
   "execution_count": null,
   "metadata": {
    "collapsed": true
   },
   "outputs": [],
   "source": [
    "phi_test = 0.1 \n",
    "theta_test = 0.1\n",
    "acceleration = np.array([[0.1], [0.2], [0.3]])\n",
    "ThreeDObject = IMU()\n",
    "\n",
    "TestCode.test_the_accelerometer_measurement(ThreeDObject.accelerometer_measurement(acceleration, \n",
    "                                                                                   phi_test, \n",
    "                                                                                   theta_test),\n",
    "                                      acceleration, phi_test, theta_test)"
   ]
  },
  {
   "cell_type": "markdown",
   "metadata": {},
   "source": [
    "Testing  `gyroscope_measurement`."
   ]
  },
  {
   "cell_type": "code",
   "execution_count": null,
   "metadata": {
    "collapsed": true
   },
   "outputs": [],
   "source": [
    "phi_test = 0.1 \n",
    "theta_test = 0.1\n",
    "phi_dot_test = 0.3 \n",
    "theta_dot_test = 0.2\n",
    "ThreeDObject = IMU(sigma_omega=0.0)\n",
    "\n",
    "TestCode.test_the_gyroscope_measurement(ThreeDObject.gyroscope_measurement(phi_test,\n",
    "                                                                           theta_test,\n",
    "                                                                           phi_dot_test,\n",
    "                                                                           theta_dot_test),\n",
    "                                        phi_test, theta_test, phi_dot_test, theta_dot_test)"
   ]
  },
  {
   "cell_type": "markdown",
   "metadata": {},
   "source": [
    "Using all the functions that we've have implemented above let's set the drone in motion and record the state history."
   ]
  },
  {
   "cell_type": "code",
   "execution_count": null,
   "metadata": {
    "collapsed": true
   },
   "outputs": [],
   "source": [
    "DroneIMU =IMU()\n",
    "Drone = ObjectInThreeD()\n",
    "Drone.X = np.array([x[0], y[0], z[0], theta[0], phi[0], x_dot[0], y_dot[0], z_dot[0]])\n",
    "\n",
    "state_histroy = Drone.X \n",
    "actual_a = np.vstack((np.vstack((x_dot_dot, y_dot_dot)), z_dot_dot))\n",
    "for i in range(phi.shape[0]):\n",
    "    measured_acceleration = DroneIMU.accelerometer_measurement(actual_a[:,i], phi[i], theta[i])\n",
    "    measured_bodyrates = DroneIMU.gyroscope_measurement(phi[i], theta[i], phi_dot[i], theta_dot[i])\n",
    "    p = measured_bodyrates[0]\n",
    "    q = measured_bodyrates[1] \n",
    "    \n",
    "    state_of_drone = Drone.advance_state(measured_acceleration, p, q, dt)\n",
    "    state_histroy = np.vstack((state_histroy,state_of_drone))\n"
   ]
  },
  {
   "cell_type": "markdown",
   "metadata": {},
   "source": [
    "Plotting the two paths."
   ]
  },
  {
   "cell_type": "code",
   "execution_count": null,
   "metadata": {
    "collapsed": true
   },
   "outputs": [],
   "source": [
    "fig = plt.figure()\n",
    "ax = fig.gca(projection='3d')\n",
    "ax.plot(x, y, z,color ='red',marker='.')\n",
    "ax.plot(state_histroy[:,0], state_histroy[:,1], state_histroy[:,2],color ='blue')\n",
    "plt.title('Flight path').set_fontsize(20)\n",
    "ax.set_xlabel('$x$ [$m$]').set_fontsize(20)\n",
    "ax.set_ylabel('$y$ [$m$]').set_fontsize(20)\n",
    "ax.set_zlabel('$z$ [$m$]').set_fontsize(20)\n",
    "plt.legend(['Actual path','Estimated path'],fontsize = 14)\n",
    "\n",
    "plt.show()"
   ]
  },
  {
   "cell_type": "markdown",
   "metadata": {
    "collapsed": true
   },
   "source": [
    "[Solution](./Dead_Reckoning_3D-Solution.ipynb)"
   ]
  },
  {
   "cell_type": "code",
   "execution_count": null,
   "metadata": {},
   "outputs": [],
   "source": []
  }
 ],
 "metadata": {
  "kernelspec": {
   "display_name": "Python 3",
   "language": "python",
   "name": "python3"
  },
  "language_info": {
   "codemirror_mode": {
    "name": "ipython",
    "version": 3
   },
   "file_extension": ".py",
   "mimetype": "text/x-python",
   "name": "python",
   "nbconvert_exporter": "python",
   "pygments_lexer": "ipython3",
   "version": "3.6.3"
  }
 },
 "nbformat": 4,
 "nbformat_minor": 2
}
