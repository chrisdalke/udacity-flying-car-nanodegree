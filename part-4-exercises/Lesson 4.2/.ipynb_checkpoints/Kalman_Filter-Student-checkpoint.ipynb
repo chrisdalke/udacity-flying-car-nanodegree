{
 "cells": [
  {
   "cell_type": "markdown",
   "metadata": {},
   "source": [
    "# Kalman Filter\n",
    "In this exercise, we will develop the Kalman Filter (KF) for the one-dimensional case and explore its key functions. "
   ]
  },
  {
   "cell_type": "code",
   "execution_count": null,
   "metadata": {},
   "outputs": [],
   "source": [
    "%matplotlib inline \n",
    "%config InlineBackend.figure_format = 'retina'\n",
    "\n",
    "import numpy as np \n",
    "#import math\n",
    "import matplotlib.pyplot as plt\n",
    "import matplotlib.pylab as pylab\n",
    "import jdc\n",
    "from ipywidgets import interactive\n",
    "from scipy.stats import multivariate_normal\n",
    "\n",
    "from StateSpaceDisplay import state_space_display, state_space_display_updated\n",
    "\n",
    "pylab.rcParams['figure.figsize'] = 10, 10"
   ]
  },
  {
   "cell_type": "markdown",
   "metadata": {},
   "source": [
    "For simplicity, the drone can only move in the vertical direction, and the state is the vertical position and velocity,\n",
    "\n",
    "$$\n",
    "x = \\begin{bmatrix} \\dot{z} \\\\ z \\end{bmatrix}\n",
    "$$\n",
    "\n",
    "The control input for the drone is the vertical acceleration $u = [\\ddot{z}]$. \n",
    "\n",
    "The drone also has uncertainty associated with it's measurements (covariance matrix Q) and state predictions (covariance matrix R), which arise from the accuracy of the sensor and the drone's ability to precisely execute a given command.\n",
    "\n",
    "The transition function has the following form:\n",
    "\n",
    "$$\n",
    "g(x_t,u_t,\\Delta t) = \\begin{bmatrix} 1 & 0 \\\\ \\Delta t & 1 \\end{bmatrix} \\begin{bmatrix} \\dot{z}\\\\z \\end{bmatrix} + \\begin{bmatrix} \\Delta t \\\\ 0 \\end{bmatrix} \\begin{bmatrix} \\ddot{z} \\end{bmatrix}  = A_t x_t+B_tu_t\n",
    "$$\n",
    "\n",
    "The partial derivative of $g$ with respect to x is:\n",
    "\n",
    "$$\n",
    "g'(x_t,u_t,\\Delta t) = \\begin{bmatrix} 1 & 0 \\\\ \\Delta t & 1   \\end{bmatrix}\n",
    "$$"
   ]
  },
  {
   "cell_type": "code",
   "execution_count": null,
   "metadata": {},
   "outputs": [],
   "source": [
    "class KF:\n",
    "    def __init__(self,\n",
    "                 measurement_noise,         # Uncertainty that is present in every measurement\n",
    "                 process_noise_v,           # Uncertainty \n",
    "                 process_noise_p,           # Uncertainty \n",
    "                 dt                         # dt time between samples \n",
    "                ):\n",
    "        \n",
    "        # Process noise\n",
    "        # This is determined experimentally based on the vehicle model; usually remains constant. \n",
    "        self.q_t = np.array([[process_noise_v**2, 0.0],\n",
    "                             [0.0, process_noise_p**2]])\n",
    "        \n",
    "        # Measurement noise\n",
    "        # This is read off a datasheet or determined experimentally; usually remains constant.\n",
    "        self.r_t =  np.array([measurement_noise**2])\n",
    "        \n",
    "        self.dt = dt\n",
    "        \n",
    "        # Default velocity, position - [0,0]\n",
    "        self.mu = np.array([[0.0],\n",
    "                            [0.0]])\n",
    "        \n",
    "        # Default covariance - complete certainty\n",
    "        self.sigma = np.array([[0.0, 0.0],\n",
    "                               [0.0, 0.0]])\n",
    "        \n",
    "        self.mu_bar = self.mu\n",
    "        self.sigma_bar = self.sigma\n",
    "\n",
    "    @property\n",
    "    def a(self):\n",
    "        return np.array([[1.0, 0.0],\n",
    "                         [self.dt, 1.0]])\n",
    "\n",
    "    @property\n",
    "    def b(self):\n",
    "        return np.array([[self.dt],\n",
    "                         [0.0]])\n",
    "\n",
    "    def g(self, \n",
    "          mu,\n",
    "          u            # Control input u = [\\ddot{z}]\n",
    "          ):\n",
    "        '''Calculates the state transition function. '''\n",
    "        # TODO: return the g matrix using the A and B matrices \n",
    "        return None\n",
    "\n",
    "    def g_prime(self):\n",
    "        '''The partial derivative of the state transition function.'''\n",
    "        # TODO: return the matrix that represents the partial derivative of the g matrix\n",
    "        return None\n",
    "\n",
    "\n",
    "    def initial_values(self, \n",
    "                       mu_0, \n",
    "                       sigma_0):\n",
    "\n",
    "        '''Setting the initial state for the drone'''\n",
    "\n",
    "        self.mu = mu_0\n",
    "        self.sigma = sigma_0"
   ]
  },
  {
   "cell_type": "markdown",
   "metadata": {},
   "source": [
    "## Predict Step\n",
    "\n",
    "The KF predicts the next state based on the previous state and the motion the drone undertook since then.\n",
    "\n",
    "Based on the previous mean and covariance values of the altitude we can predict the new mean and covariance values and estimate the current state. "
   ]
  },
  {
   "cell_type": "code",
   "execution_count": null,
   "metadata": {},
   "outputs": [],
   "source": [
    "%%add_to KF\n",
    "\n",
    "def predict(self, \n",
    "            u             # Control input \n",
    "           ):\n",
    "\n",
    "    '''Prediction step of the Kalman Filter'''\n",
    "\n",
    "    # TODO: Implement the prediction step \n",
    "    # The formulas were provided in the preceding lessons and in the document: https://www.overleaf.com/read/vymfngphcccj  \n",
    "    \n",
    "    # mu_bar = None\n",
    "    # sigma_bar = None\n",
    "\n",
    "    self.mu_bar = mu_bar\n",
    "    self.sigma_bar = sigma_bar\n",
    "\n",
    "    return mu_bar, sigma_bar"
   ]
  },
  {
   "cell_type": "markdown",
   "metadata": {},
   "source": [
    "## Initialize Kalman Filter"
   ]
  },
  {
   "cell_type": "code",
   "execution_count": null,
   "metadata": {},
   "outputs": [],
   "source": [
    "measurement_noise = 0.1         # Measurement noise\n",
    "process_noise_v = 0.1           # Process noise, velocity\n",
    "process_noise_p = 0.1           # Process noise, position\n",
    "\n",
    "v = 1.0                         # Initial velocity\n",
    "z = 0.0                         # Initial position\n",
    "\n",
    "dt = 1.0                        # The time difference between measurements\n",
    "\n",
    "velocity_sigma = 0.1            # Initial velocity uncertainty\n",
    "position_sigma = 0.1            # Initial position uncertainty\n",
    "\n",
    "mu_0 = np.array([[v],\n",
    "                 [z]]) \n",
    "\n",
    "sigma_0 = np.array([[velocity_sigma**2, 0.0],\n",
    "                    [0.0, position_sigma**2]])\n",
    "\n",
    "u = np.array([0.0])     # no control input is given \\ddot{z} = 0 "
   ]
  },
  {
   "cell_type": "code",
   "execution_count": null,
   "metadata": {},
   "outputs": [],
   "source": [
    "# Initialize the object\n",
    "myKF = KF(measurement_noise, process_noise_v, process_noise_p, dt)\n",
    "\n",
    "# Input the initial values \n",
    "myKF.initial_values(mu_0, sigma_0)\n",
    "\n",
    "# Call the predict function\n",
    "mu_bar, sigma_bar = myKF.predict(u)\n",
    "\n",
    "# Print the new values for the mean and covariance\n",
    "print('mu_bar = \\n', mu_bar)\n",
    "print('\\nsigma_bar = \\n', sigma_bar)"
   ]
  },
  {
   "cell_type": "markdown",
   "metadata": {},
   "source": [
    "Plotting the initial and predicted estimates.\n"
   ]
  },
  {
   "cell_type": "code",
   "execution_count": null,
   "metadata": {},
   "outputs": [],
   "source": [
    "state_space_display(z, v, mu_0, sigma_0, mu_bar, sigma_bar)"
   ]
  },
  {
   "cell_type": "markdown",
   "metadata": {},
   "source": [
    "## Measurement Update\n",
    "\n",
    "In this section, we will update the state vector mean position and the covariance based on the measurement that we perform after executing the move. \n",
    "\n",
    "$$\n",
    "h= \\begin{bmatrix} 0 & 1  \\end{bmatrix} \\times \\begin{bmatrix}\\dot{z} \\\\ z  \\end{bmatrix}\n",
    "$$\n",
    "\n",
    "Thus \n",
    "$$\n",
    "h' = \\begin{bmatrix} 0 & 1 \\end{bmatrix}\n",
    "$$"
   ]
  },
  {
   "cell_type": "code",
   "execution_count": null,
   "metadata": {},
   "outputs": [],
   "source": [
    "%%add_to KF\n",
    "\n",
    "def h(self,mu):\n",
    "    return np.matmul(np.array([[0.0, 1.0]]), mu) \n",
    "\n",
    "def h_prime(self):\n",
    "    return np.array([[0.0, 1.0]])\n",
    "\n",
    "def update(self, \n",
    "           z             # Measurement \n",
    "          ):\n",
    "    '''Measurement Update step of the Kalman Filter'''\n",
    "    \n",
    "    # TODO: Implement the measurement update step. \n",
    "    # The formulas were provided in the preceding lessons and in the document: https://www.overleaf.com/read/vymfngphcccj    \n",
    "    \n",
    "    # H = None \n",
    "    # S = None\n",
    "    # K = None\n",
    "    \n",
    "    # mu = None\n",
    "    # sigma = None\n",
    "    \n",
    "    self.mu = mu\n",
    "    self.sigma = sigma\n",
    "    \n",
    "    return mu, sigma"
   ]
  },
  {
   "cell_type": "markdown",
   "metadata": {},
   "source": [
    "We'll introduce a single measurement close to the predicted position and update the drone's estimated position."
   ]
  },
  {
   "cell_type": "code",
   "execution_count": null,
   "metadata": {},
   "outputs": [],
   "source": [
    "measure = 1.01\n",
    "\n",
    "mu_updated, sigma_updated = myKF.update(measure)\n",
    "\n",
    "print('Updated mean = \\n', mu_updated)\n",
    "print('\\nUpdated sigma = \\n', sigma_updated)"
   ]
  },
  {
   "cell_type": "markdown",
   "metadata": {},
   "source": [
    "Plotting the initial, predicted, and updated estimates."
   ]
  },
  {
   "cell_type": "code",
   "execution_count": null,
   "metadata": {},
   "outputs": [],
   "source": [
    "state_space_display_updated(z, v, mu_0, sigma_0, mu_bar, sigma_bar, mu_updated, sigma_updated)"
   ]
  },
  {
   "cell_type": "markdown",
   "metadata": {},
   "source": [
    "Please note that if you have peformed all operations correctly the updated state should be better defined than the initial state and the predicted state (the ovals should occupy a smaller area)."
   ]
  },
  {
   "cell_type": "markdown",
   "metadata": {
    "collapsed": true
   },
   "source": [
    "### KF + PID\n",
    "\n",
    "In this section, we will once again ask our drone to hover at a constant height of -1m, but this time we will use a Kalman Filter to estimate the drone's altitude, instead of averaging as we had done previously."
   ]
  },
  {
   "cell_type": "code",
   "execution_count": null,
   "metadata": {},
   "outputs": [],
   "source": [
    "from CoaxialDrone import CoaxialCopter\n",
    "from PIDcontroller import PIDController_with_ff\n",
    "from PathGeneration import flight_path"
   ]
  },
  {
   "cell_type": "markdown",
   "metadata": {},
   "source": [
    "First, we will generate a flight path, which will be a constant height of -1m. "
   ]
  },
  {
   "cell_type": "code",
   "execution_count": null,
   "metadata": {},
   "outputs": [],
   "source": [
    "total_time = 10.0  # Total flight time\n",
    "dt = 0.01          # Time intervale between measurements \n",
    "\n",
    "t, z_path, z_dot_path, z_dot_dot_path =  flight_path(total_time, dt,'constant' )"
   ]
  },
  {
   "cell_type": "markdown",
   "metadata": {},
   "source": [
    "###  Sensing\n",
    "\n",
    "To generate the measurement data, we will simulate a range-finding sensor by adding noise to the actual altitude measurements."
   ]
  },
  {
   "cell_type": "code",
   "execution_count": null,
   "metadata": {},
   "outputs": [],
   "source": [
    "class Sensor:\n",
    "    def __init__(self):\n",
    "        pass\n",
    "        \n",
    "    def measure(self, z, sigma=0.001): \n",
    "        return z + np.random.normal(0.0, sigma)"
   ]
  },
  {
   "cell_type": "code",
   "execution_count": null,
   "metadata": {},
   "outputs": [],
   "source": [
    "from DronewithPIDControllerKF import DronewithPIDKF"
   ]
  },
  {
   "cell_type": "code",
   "execution_count": null,
   "metadata": {},
   "outputs": [],
   "source": [
    "sensor_error  = 0.1\n",
    "velocity_sigma = 0.1\n",
    "position_sigma = 0.1 \n",
    "MYKF = KF(sensor_error, velocity_sigma, position_sigma, dt)"
   ]
  },
  {
   "cell_type": "markdown",
   "metadata": {},
   "source": [
    "Let's compare two estimates of the drone's altitude:\n",
    "\n",
    "- the estimate produced by the Kalman Filter,\n",
    "- the estimate we obtained earlier, using the measurements directly.\n",
    "\n",
    "The graph below will display the estimate obtained by using the measurements directly. By checking the use_kf checkbox, you can see the estimate produced by the Kalman Filter. "
   ]
  },
  {
   "cell_type": "code",
   "execution_count": null,
   "metadata": {},
   "outputs": [],
   "source": [
    "# Initializing the drone with PID controller and providing information of the desired flight path. \n",
    "FlyingDrone = DronewithPIDKF(z_path, z_dot_path, z_dot_dot_path, t, dt, Sensor, KF)"
   ]
  },
  {
   "cell_type": "code",
   "execution_count": null,
   "metadata": {},
   "outputs": [],
   "source": [
    "interactive_plot = interactive(FlyingDrone.PID_controller_with_KF, \n",
    "                               position_sigma = (0.0, 0.1, 0.001),\n",
    "                               motion_sigma = (0.0, 0.1, 0.001))\n",
    "output = interactive_plot.children[-1]\n",
    "output.layout.height = '800px'\n",
    "interactive_plot"
   ]
  },
  {
   "cell_type": "markdown",
   "metadata": {},
   "source": [
    "This section will allow you to test the different PID controller parameters and compare flight path when using the direct measurement and the KF estimated value to control the drone. "
   ]
  },
  {
   "cell_type": "code",
   "execution_count": null,
   "metadata": {},
   "outputs": [],
   "source": [
    "from DronewithPIDControllerKF import DronewithPIDKFKnobs"
   ]
  },
  {
   "cell_type": "code",
   "execution_count": null,
   "metadata": {},
   "outputs": [],
   "source": [
    "FlyingDroneKnobs = DronewithPIDKFKnobs(z_path, z_dot_path, z_dot_dot_path, t, dt, Sensor, KF)"
   ]
  },
  {
   "cell_type": "code",
   "execution_count": null,
   "metadata": {},
   "outputs": [],
   "source": [
    "interactive_plot = interactive(FlyingDroneKnobs.PID_controller_with_KF_knobs,\n",
    "                               k_p=(5.0, 35.0, 1),\n",
    "                               k_d=(0.0, 10, 0.5), \n",
    "                               k_i=(0.0, 10, 0.5), \n",
    "                               mass_err =(0.7, 1.31, 0.01),\n",
    "                               sigma = (0.0, 0.1, 0.001),\n",
    "                               position_sigma = (0.0, 0.1, 0.001),\n",
    "                               motion_sigma = (0.0, 0.1, 0.001))\n",
    "\n",
    "output = interactive_plot.children[-1]\n",
    "output.layout.height = '800px'\n",
    "interactive_plot"
   ]
  },
  {
   "cell_type": "markdown",
   "metadata": {
    "collapsed": true
   },
   "source": [
    "[Solution](./Kalman_Filter-Solution.ipynb)"
   ]
  },
  {
   "cell_type": "code",
   "execution_count": null,
   "metadata": {},
   "outputs": [],
   "source": []
  }
 ],
 "metadata": {
  "kernelspec": {
   "display_name": "Python 3",
   "language": "python",
   "name": "python3"
  },
  "language_info": {
   "codemirror_mode": {
    "name": "ipython",
    "version": 3
   },
   "file_extension": ".py",
   "mimetype": "text/x-python",
   "name": "python",
   "nbconvert_exporter": "python",
   "pygments_lexer": "ipython3",
   "version": "3.6.3"
  }
 },
 "nbformat": 4,
 "nbformat_minor": 2
}
