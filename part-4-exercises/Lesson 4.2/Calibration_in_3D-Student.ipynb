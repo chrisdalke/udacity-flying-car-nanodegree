{
 "cells": [
  {
   "cell_type": "markdown",
   "metadata": {},
   "source": [
    "# IMU Calibration\n",
    "\n",
    "As discussed the typical IMU sensor model can be expressed as \n",
    "\n",
    "$$\n",
    "\\tilde{a} = b + (I+M) a + \\eta \n",
    "$$\n",
    "\n",
    "Where $b$ is bias vector and $M$ is a scaling, cross-coupling matrix. In this exercise, we'll introduce an IMU model misaligned from the object and perform calibration to obtain the $M$ and $b$ values. \n",
    "\n",
    "**Note:**\n",
    "* We cannot use the loop shape path for calibration purposes as acceleration components needs to be linearly independent of each other. \n",
    "* Roll, pitch and yaw angles are set to 0.\n",
    "\n",
    "The state vector for the object can be expressed as $X=[x,y,z,\\theta,\\phi,\\dot{x},\\dot{y},\\dot{z}]$.\n",
    "\n",
    "<img src=\"Drone3D2.png\" width=\"600\">"
   ]
  },
  {
   "cell_type": "code",
   "execution_count": null,
   "metadata": {
    "collapsed": true
   },
   "outputs": [],
   "source": [
    "%matplotlib inline \n",
    "%config InlineBackend.figure_format = 'retina'\n",
    "\n",
    "import numpy as np \n",
    "from math import sin, cos, tan\n",
    "import matplotlib.pyplot as plt\n",
    "import matplotlib.pylab as pylab\n",
    "from mpl_toolkits.mplot3d import Axes3D\n",
    "import jdc\n",
    "import random\n",
    "from calibrating_object import ObjectInThreeD\n",
    "from misalignment_calibration import flight_path\n",
    "\n",
    "pylab.rcParams['figure.figsize'] = 10, 10"
   ]
  },
  {
   "cell_type": "markdown",
   "metadata": {},
   "source": [
    "First, let's generate a calibration path where the acceleration components are linearly independent."
   ]
  },
  {
   "cell_type": "code",
   "execution_count": null,
   "metadata": {
    "collapsed": true
   },
   "outputs": [],
   "source": [
    "t, dt, x, x_dot, x_dot_dot, y, y_dot, y_dot_dot, z, z_dot, z_dot_dot, phi, phi_dot, theta, theta_dot = flight_path()"
   ]
  },
  {
   "cell_type": "markdown",
   "metadata": {},
   "source": [
    "Plotting the path that drone takes for calibration."
   ]
  },
  {
   "cell_type": "code",
   "execution_count": null,
   "metadata": {},
   "outputs": [],
   "source": [
    "fig = plt.figure()\n",
    "ax = fig.gca(projection='3d')\n",
    "ax.plot(x, y, z)\n",
    "plt.title('Calibration path').set_fontsize(20)\n",
    "ax.set_xlabel('$x$ [$m$]').set_fontsize(20)\n",
    "ax.set_ylabel('$y$ [$m$]').set_fontsize(20)\n",
    "ax.set_zlabel('$z$ [$m$]').set_fontsize(20)\n",
    "plt.legend(['Executed path'],fontsize = 14)\n",
    "\n",
    "plt.show()"
   ]
  },
  {
   "cell_type": "markdown",
   "metadata": {},
   "source": [
    "# IMU \n",
    "\n",
    "You'll notice `scaling_cross_coupling_matrix` is integrated into the acceleration measurement."
   ]
  },
  {
   "cell_type": "code",
   "execution_count": null,
   "metadata": {
    "collapsed": true
   },
   "outputs": [],
   "source": [
    "class IMU:\n",
    "    \n",
    "    def __init__(self,\n",
    "                 sigma_a = 0.0001,          # The error for the acceleration measurement\n",
    "                ):\n",
    "        '''\n",
    "        Initializing the IMU object with the sigma values associated \n",
    "        with measuring the accelerations in the body frame.\n",
    "        '''\n",
    "        self.sigma_a  = sigma_a\n",
    "        self.g = 9.81 * np.array([[0], [0], [-1]]) # The opposite of gravity, thus directed opposite of the z-axis. \n",
    "    \n",
    "    def rotation_matrix(self,phi,theta):\n",
    "        '''\n",
    "        Returns the rotation matrix for the given roll, pitch and yaw angles. \n",
    "        '''\n",
    "        \n",
    "        psi = 0.0 \n",
    "        r_x = np.array([[1, 0, 0],\n",
    "                        [0, np.cos(phi), -np.sin(phi)],\n",
    "                        [0, np.sin(phi), np.cos(phi)]])\n",
    "\n",
    "        r_y = np.array([[np.cos(theta), 0, np.sin(theta)],\n",
    "                        [0, 1, 0],\n",
    "                        [-np.sin(theta), 0, np.cos(theta)]])\n",
    "\n",
    "        r_z = np.array([[np.cos(psi), -np.sin(psi), 0],\n",
    "                        [np.sin(psi), np.cos(psi), 0],\n",
    "                        [0,0,1]])\n",
    "\n",
    "        r = np.matmul(r_z,np.matmul(r_y,r_x))\n",
    "\n",
    "        return r \n",
    "    \n",
    "    @property\n",
    "    def scaling_cross_coupling_matrix(self):\n",
    "        '''\n",
    "        scaling cross-coupling matrix which can characterize the accelerometer measurements\n",
    "        '''\n",
    "\n",
    "        m = np.array([[0.0, 0.001, 0.001],\n",
    "                      [0.001, 0.0, 0.001],\n",
    "                      [0.001, 0.001, 0.0]])\n",
    "\n",
    "        return m\n",
    "    \n",
    "    def accelerometer_measurement(self, actual_a, phi, theta):\n",
    "        '''\n",
    "        Simulates the measurements of the accelerations in the body frame \n",
    "        based on the actual linear acceleration.\n",
    "        We kept the accelerometer measurement implementation developed in the previous exercise.\n",
    "        '''\n",
    "        \n",
    "        actual_a = actual_a.reshape(3, 1)\n",
    "        linear_acc_bodyframe = np.matmul(self.rotation_matrix(phi, theta), actual_a)\n",
    "        \n",
    "        gravity_component = np.matmul(self.rotation_matrix(phi, theta), self.g)\n",
    "        \n",
    "        error_component = np.random.normal(0.0, self.sigma_a, (3, 1))\n",
    "\n",
    "        # TODO: calculate the measured acceleration using the scaling cross-coupling matrix\n",
    "        measured_acceleration = None\n",
    "    \n",
    "\n",
    "        return measured_acceleration\n",
    "    "
   ]
  },
  {
   "cell_type": "markdown",
   "metadata": {},
   "source": [
    "Now we are ready to execute calibration motion and capture the accelerations recorded by the IMU."
   ]
  },
  {
   "cell_type": "code",
   "execution_count": null,
   "metadata": {
    "collapsed": true
   },
   "outputs": [],
   "source": [
    "MisalignedIMU =IMU(sigma_a=0.0001)\n",
    "CalibrationObject = ObjectInThreeD(dt)\n",
    "CalibrationObject.X = np.array([x[0], y[0], z[0], theta[0], phi[0], x_dot[0], y_dot[0], z_dot[0]])\n",
    "\n",
    "state_histroy = CalibrationObject.X \n",
    "actual_a = np.vstack((np.vstack((x_dot_dot, y_dot_dot)), z_dot_dot))\n",
    "measured_acceleration = MisalignedIMU.accelerometer_measurement(actual_a[:,0], phi[0], theta[0])\n",
    "measured_acceleration_history=measured_acceleration\n",
    "\n",
    "for i in range(phi.shape[0]):\n",
    "    measured_acceleration = MisalignedIMU.accelerometer_measurement(actual_a[:,i], phi[i], theta[i])\n",
    "    p, q = 0, 0 \n",
    "    \n",
    "    state_of_drone = CalibrationObject.advance_state(measured_acceleration, p, q, dt)\n",
    "    state_histroy = np.vstack((state_histroy,state_of_drone))\n",
    "    measured_acceleration_history = np.hstack((measured_acceleration_history,measured_acceleration))\n"
   ]
  },
  {
   "cell_type": "markdown",
   "metadata": {},
   "source": [
    "Comparing the calibration path with the inferred path."
   ]
  },
  {
   "cell_type": "code",
   "execution_count": null,
   "metadata": {},
   "outputs": [],
   "source": [
    "fig = plt.figure()\n",
    "ax = fig.gca(projection='3d')\n",
    "ax.plot(x, y, z,color ='red', marker='.')\n",
    "ax.plot(state_histroy[:,0], state_histroy[:,1], state_histroy[:,2], color ='blue')\n",
    "plt.title('Calibration path').set_fontsize(20)\n",
    "ax.set_xlabel('$x$ [$m$]').set_fontsize(20)\n",
    "ax.set_ylabel('$y$ [$m$]').set_fontsize(20)\n",
    "ax.set_zlabel('$z$ [$m$]').set_fontsize(20)\n",
    "plt.legend(['Executed path','Estimated path'], fontsize = 14)\n",
    "\n",
    "plt.show()"
   ]
  },
  {
   "cell_type": "markdown",
   "metadata": {},
   "source": [
    "### Calculating the $M$ matrix\n",
    "\n",
    "A function, $y$, which is a linear combination of several independent variables $x_1 ... x_n$ can be expressed as: \n",
    "\n",
    "$$\n",
    "y= c_0 + c_1 x_1 + c_2 x_2 + ... + c_n x_n \n",
    "$$\n",
    "\n",
    "Knowing $y$ for each set of $x_1 ... x_n$ least squares can be used to calculate the coefficients values $c_0, c_1, ..., c_n$.\n",
    "\n",
    "In our case, $\\tilde{a} \\equiv y $ and $a_x, a_y, a_z \\equiv x_1, x_2, x_3$ \n",
    "Least Squares can be performed using [`np.linalg.lstsq`](https://docs.scipy.org/doc/numpy-1.14.0/reference/generated/numpy.linalg.lstsq.html) and it will have to be performed for each acceleration component separately to obtain elements for the proper bias and scaling cross-coupling matrix rows. "
   ]
  },
  {
   "cell_type": "code",
   "execution_count": null,
   "metadata": {},
   "outputs": [],
   "source": [
    "estimated_scaling_cross_coupling_matrix_and_bias=np.zeros((3,4))\n",
    "# TODO: Add a row of 1s to the actual acceleration matrix.\n",
    "acceleration_vectors = None\n",
    "\n",
    "# TODO: Perform linear regression for each acceleration component. \n",
    "for i in range(3):\n",
    "    estimated_scaling_cross_coupling_matrix_and_bias[i,:] = None\n",
    "    \n",
    "print('(I+M) =  \\n',estimated_scaling_cross_coupling_matrix_and_bias)"
   ]
  },
  {
   "cell_type": "markdown",
   "metadata": {},
   "source": [
    "As you can see, the given method was able to capture the linear scaling terms on (diagonal elements) which are reasonably close to one. As $(I+M)$ matrix will result in the diagonal terms close to one. Also, it was able to estimate off-diagonal elements with good precision. Finally, we can see that the bias elements the final column of the obtained matrix contains the gravity constant for the $z$ component. This is not characteristic of the IMU unit but, since we have not removed it artificially, as expected it shows up as the bias. "
   ]
  },
  {
   "cell_type": "markdown",
   "metadata": {
    "collapsed": true
   },
   "source": [
    "[Solution](Calibration_in_3D-Solution.ipynb)"
   ]
  },
  {
   "cell_type": "code",
   "execution_count": null,
   "metadata": {},
   "outputs": [],
   "source": []
  }
 ],
 "metadata": {
  "kernelspec": {
   "display_name": "Python 3",
   "language": "python",
   "name": "python3"
  },
  "language_info": {
   "codemirror_mode": {
    "name": "ipython",
    "version": 3
   },
   "file_extension": ".py",
   "mimetype": "text/x-python",
   "name": "python",
   "nbconvert_exporter": "python",
   "pygments_lexer": "ipython3",
   "version": "3.6.3"
  }
 },
 "nbformat": 4,
 "nbformat_minor": 2
}
