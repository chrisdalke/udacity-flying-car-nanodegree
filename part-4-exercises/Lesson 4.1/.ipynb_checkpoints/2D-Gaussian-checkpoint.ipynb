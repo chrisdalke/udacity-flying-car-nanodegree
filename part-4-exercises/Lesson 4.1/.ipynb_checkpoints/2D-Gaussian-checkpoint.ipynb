{
 "cells": [
  {
   "cell_type": "markdown",
   "metadata": {},
   "source": [
    "# 2D Gaussian\n",
    "\n",
    "In this notebook, you'll recover mean and covariance matrix of a 2D Gaussian. You'll then use these values to draw a visual representation, exploring how changing the mean and covariance values alters the distribution."
   ]
  },
  {
   "cell_type": "code",
   "execution_count": null,
   "metadata": {},
   "outputs": [],
   "source": [
    "import numpy as np\n",
    "import matplotlib.pyplot as plt\n",
    "import numpy.linalg as LA\n",
    "from matplotlib.patches import Ellipse\n",
    "\n",
    "%matplotlib inline"
   ]
  },
  {
   "cell_type": "code",
   "execution_count": null,
   "metadata": {},
   "outputs": [],
   "source": [
    "def create_ellipse(mu, angle, width, height):\n",
    "    # angle is plotted such that it starts from 180 and goes\n",
    "    # clockwise instead of from 0 degrees and goes counter-clockwise\n",
    "    # so 135 degrees -> 45 degrees\n",
    "    return Ellipse(xy=mu, width=2*width, height=2*height, angle=angle,\n",
    "                      facecolor='none', edgecolor='k', linewidth=3.5)\n",
    "\n",
    "def plot_ellipse(mu, sigma):  \n",
    "    (w, v) = LA.eig(sigma)\n",
    "    angle = np.degrees(np.arctan2(v[1, 0], v[0, 0]))\n",
    "    \n",
    "    ax = plt.gca()\n",
    "    ellipse = create_ellipse(mu, angle, w[0], w[1])\n",
    "    ax.add_patch(ellipse)\n",
    "    plt.plot(mu[0], mu[1], 'ro')"
   ]
  },
  {
   "cell_type": "code",
   "execution_count": null,
   "metadata": {},
   "outputs": [],
   "source": [
    "plt.rcParams['figure.figsize'] = 12, 12"
   ]
  },
  {
   "cell_type": "markdown",
   "metadata": {},
   "source": [
    "The generated samples are in a `.txt` file."
   ]
  },
  {
   "cell_type": "code",
   "execution_count": null,
   "metadata": {},
   "outputs": [],
   "source": [
    "samples = np.loadtxt('data.txt')"
   ]
  },
  {
   "cell_type": "code",
   "execution_count": null,
   "metadata": {},
   "outputs": [],
   "source": [
    "# only plot 1000 samples, otherwise the plot gets cluttered\n",
    "plt.plot(samples[:1000, 0], samples[:1000, 1], 'bx')\n",
    "plt.axis('equal')\n",
    "plt.xlabel('VARIABLE 1')\n",
    "plt.ylabel('VARIABLE 2')\n",
    "plt.show()"
   ]
  },
  {
   "cell_type": "code",
   "execution_count": null,
   "metadata": {},
   "outputs": [],
   "source": [
    "# TODO: calculate the covariance matrix of the samples. You can do this however you like. \n",
    "# HINT: 2x2 matrix\n",
    "C = ?\n",
    "print(\"Covariance =\\n\", C)\n",
    "\n",
    "# TODO: calculate the mean of the samples\n",
    "# HINT: 2-element array\n",
    "mean = ?\n",
    "print(\"Mean =\\n\", mean)"
   ]
  },
  {
   "cell_type": "markdown",
   "metadata": {},
   "source": [
    "Plot an ellipse which acts as a visual representation of the mean and covariance. Mean is represented by the red dot and the samples are the blue dots."
   ]
  },
  {
   "cell_type": "code",
   "execution_count": null,
   "metadata": {},
   "outputs": [],
   "source": [
    "plt.title('Covariance')\n",
    "plt.axis('equal')\n",
    "plt.xlabel('VARIABLE 1')\n",
    "plt.ylabel('VARIABLE 2')\n",
    "\n",
    "plt.plot(samples[:500, 0], samples[:500, 1], 'bx')\n",
    "plot_ellipse(mean, C)"
   ]
  },
  {
   "cell_type": "markdown",
   "metadata": {},
   "source": [
    "Fiddle with the diagonal values to get a better feel how it influences the distribution."
   ]
  },
  {
   "cell_type": "code",
   "execution_count": null,
   "metadata": {},
   "outputs": [],
   "source": [
    "plt.title('Covariance')\n",
    "plt.axis('equal')\n",
    "plt.xlabel('VARIABLE 1')\n",
    "plt.ylabel('VARIABLE 2')\n",
    "\n",
    "# TODO: fiddle around with covariance params\n",
    "plt.plot(samples[:500, 0], samples[:500, 1], 'bx')\n",
    "plot_ellipse(mean, ?)"
   ]
  },
  {
   "cell_type": "markdown",
   "metadata": {},
   "source": [
    "[Solution](./2D-Gaussian-Solution.ipynb)"
   ]
  },
  {
   "cell_type": "code",
   "execution_count": null,
   "metadata": {},
   "outputs": [],
   "source": []
  }
 ],
 "metadata": {
  "kernelspec": {
   "display_name": "Python 3",
   "language": "python",
   "name": "python3"
  },
  "language_info": {
   "codemirror_mode": {
    "name": "ipython",
    "version": 3
   },
   "file_extension": ".py",
   "mimetype": "text/x-python",
   "name": "python",
   "nbconvert_exporter": "python",
   "pygments_lexer": "ipython3",
   "version": "3.6.3"
  }
 },
 "nbformat": 4,
 "nbformat_minor": 2
}
