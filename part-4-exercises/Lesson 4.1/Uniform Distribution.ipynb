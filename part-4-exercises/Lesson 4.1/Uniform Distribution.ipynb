{
 "cells": [
  {
   "cell_type": "code",
   "execution_count": 3,
   "metadata": {},
   "outputs": [],
   "source": [
    "from matplotlib import pyplot as plt\n",
    "import numpy as np"
   ]
  },
  {
   "cell_type": "markdown",
   "metadata": {},
   "source": [
    "A uniform distribution can be parameterized by two numbers, $a$ and $b$. This distribution has probability 0 when $x<a$ or $x>b$ and probability $1 / (b-a)$ otherwise.\n",
    "\n",
    "The code below is meant to demonstrate how the PDF, CDF, and actual probabilities are all related. There's nothing for you to implement, just read through and see how it works (and make any modifications you'd like)."
   ]
  },
  {
   "cell_type": "code",
   "execution_count": 4,
   "metadata": {},
   "outputs": [],
   "source": [
    "class UniformDistribution:\n",
    "    \n",
    "    def __init__(self,a,b):\n",
    "        self.a = a\n",
    "        self.b = b\n",
    "        \n",
    "    def f(self, x):\n",
    "        \"\"\"Probability Density Function (PDF) f(x)\"\"\"\n",
    "        if x < self.a or x > self.b: \n",
    "            return 0.0\n",
    "        return 1.0 / (self.b - self.a)\n",
    "    \n",
    "    def F(self,x):\n",
    "        \"Cumulative Density Function (CDF) F(x)\"\n",
    "        if x < self.a: return 0.0\n",
    "        if x > self.b: return 1.0\n",
    "        return (x - self.a) / (self.b - self.a)\n",
    "    \n",
    "    def p(self, x1, x2):\n",
    "        \"\"\"Calculates the probability that x1 < x < x2\"\"\"\n",
    "        return self.F(x2) - self.F(x1)\n",
    "    \n",
    "    def plot_f(self, x_min, x_max):\n",
    "        \"\"\"Plots the PDF\"\"\"\n",
    "        p = []\n",
    "        X = np.linspace(x_min, x_max, 1000)\n",
    "        for x in X:\n",
    "            p.append(self.f(x))\n",
    "        plt.plot(X, p)\n",
    "        \n",
    "    def plot_F(self, x_min, x_max):\n",
    "        \"\"\"Plots the CDF\"\"\"\n",
    "        p = []\n",
    "        X = np.linspace(x_min, x_max, 1000)\n",
    "        for x in X:\n",
    "            p.append(self.F(x))\n",
    "        plt.plot(X, p)"
   ]
  },
  {
   "cell_type": "markdown",
   "metadata": {},
   "source": [
    "The code below plots the PDF and CDF of a uniform distribution. Note that the **slope** of the CDF gives the **value** of the PDF. "
   ]
  },
  {
   "cell_type": "code",
   "execution_count": 5,
   "metadata": {},
   "outputs": [
    {
     "data": {
      "image/png": "[encoded data removed]",
      "text/plain": [
       "<matplotlib.figure.Figure at 0x25312d5ee48>"
      ]
     },
     "metadata": {
      "needs_background": "light"
     },
     "output_type": "display_data"
    }
   ],
   "source": [
    "a, b = -1, 2\n",
    "uniform = UniformDistribution(a,b)\n",
    "\n",
    "uniform.plot_f(a-1, b+1)\n",
    "uniform.plot_F(a-1, b+1)\n",
    "plt.legend([\"PDF of uniform distribution\", \n",
    "            \"CDF of uniform distribution\"])\n",
    "plt.show()"
   ]
  }
 ],
 "metadata": {
  "kernelspec": {
   "display_name": "Python 3",
   "language": "python",
   "name": "python3"
  },
  "language_info": {
   "codemirror_mode": {
    "name": "ipython",
    "version": 3
   },
   "file_extension": ".py",
   "mimetype": "text/x-python",
   "name": "python",
   "nbconvert_exporter": "python",
   "pygments_lexer": "ipython3",
   "version": "3.6.3"
  }
 },
 "nbformat": 4,
 "nbformat_minor": 2
}
