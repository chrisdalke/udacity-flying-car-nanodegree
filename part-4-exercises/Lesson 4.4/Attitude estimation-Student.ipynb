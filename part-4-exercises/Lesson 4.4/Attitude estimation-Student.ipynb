{
 "cells": [
  {
   "cell_type": "markdown",
   "metadata": {},
   "source": [
    "# Attitude estimation\n",
    "\n",
    "We would like to track the drones state pitch and roll $\\theta$, $\\phi$ respectively. For each measurement, we would obtain the pitch and roll estimated from the accelerometer and the angular velocities from the gyro. \n",
    "\n",
    "$$\n",
    "z_t =\\begin{bmatrix} \\theta \\\\ \\phi \\\\ q \\\\ p  \\end{bmatrix}\n",
    "$$\n",
    "\n",
    "For this exercise, we will assume that the drone is close to the hover mode. Thus $\\phi \\ll 1$ and $\\theta \\ll 1$. The advantage of the given assumption is that we can assume turning rate in body frame is the same as in the global frame.\n",
    "$$\n",
    "\\dot{\\phi} = p \\\\\n",
    "\\dot{\\theta} = q\n",
    "$$\n",
    "\n",
    "**Note:** For larger angles, you have to use the transformation matrix which we covered in previous lessons. \n",
    "Our state will consist of the pitch and roll angles.\n",
    "$$\n",
    "x= \\begin{bmatrix} \\theta \\\\ \\phi \\end{bmatrix}\n",
    "$$\n",
    "\n",
    "### Filter architecture\n",
    "We will combine the measurements of the pitch a roll angle from the accelerometer with the previously estimated pitch and roll plus angular velocities measured by gyroscopes. \n",
    "\n",
    "This is achieved by giving different weights for each measurement. \n",
    "$$\n",
    "\\hat{\\theta}_t = \\frac{\\tau}{\\tau + dt}\\left( \\hat{\\theta}_{t-1} +  z_{t,\\dot{\\theta}} \\times dt\\right) + \\frac{dt}{\\tau + T_s} z_{t,\\theta} \\\\ \n",
    "\\hat{\\phi}_t = \\frac{\\tau}{\\tau + dt}\\left( \\hat{\\phi}_{t-1} +  z_{t,\\dot{\\phi}} \\times dt\\right) + \\frac{dt}{\\tau + T_s} z_{t,\\phi}\n",
    "$$\n",
    "\n",
    "Where $dt$ is a time interval between sampling, $\\hat{\\theta}_{t-1}$ and $\\hat{\\phi}_{t-1}$ represents the previously estimated values. By choosing the $\\tau$ time constant we can assign different weights to the direct measurement of the pitch and roll from accelerometer  $z_{t,\\theta}$ and $ z_{t,\\phi}$, respectfully and the predicted values for pitch and roll from old estimated values $\\left( \\hat{\\theta}_{t-1} +  z_{t,\\dot{\\theta}} \\times dt\\right)$ and $\\left( \\hat{\\phi}_{t-1} +  z_{t,\\dot{\\phi}} \\times dt\\right)$. "
   ]
  },
  {
   "cell_type": "code",
   "execution_count": null,
   "metadata": {
    "collapsed": true
   },
   "outputs": [],
   "source": [
    "%matplotlib inline \n",
    "%config InlineBackend.figure_format = 'retina'\n",
    "\n",
    "import numpy as np \n",
    "from math import sin, cos\n",
    "import matplotlib.pyplot as plt\n",
    "import matplotlib.pylab as pylab\n",
    "import jdc\n",
    "from ipywidgets import interactive\n",
    "from scipy.stats import multivariate_normal\n",
    "import pandas as pd \n",
    "\n",
    "pylab.rcParams['figure.figsize'] = 10, 10"
   ]
  },
  {
   "cell_type": "code",
   "execution_count": null,
   "metadata": {
    "collapsed": true
   },
   "outputs": [],
   "source": [
    "pylab.rcParams['figure.figsize'] = 10, 10"
   ]
  },
  {
   "cell_type": "markdown",
   "metadata": {},
   "source": [
    "Implementing the `AttitudeFilter` object."
   ]
  },
  {
   "cell_type": "code",
   "execution_count": null,
   "metadata": {
    "collapsed": true
   },
   "outputs": [],
   "source": [
    "class AttitudeFilter:\n",
    "    def __init__(self,\n",
    "                 dt,       # Time between sampling\n",
    "                 tau       # The time constant dictating the weights       \n",
    "                 ): \n",
    "        \n",
    "        \n",
    "        self.dt= dt\n",
    "        self.tau = tau\n",
    "        self.estimated_theta = 0.0\n",
    "        self.estimated_phi   = 0.0\n",
    "        \n",
    "    def update(self,\n",
    "               z           # z is observation which contains the theta, phi, q and p\n",
    "               ):\n",
    "        # TODO: implement the estimated pitch and roll \n",
    "        # self.estimated_theta = None\n",
    "        # self.estimated_phi = None \n",
    "        \n",
    "        "
   ]
  },
  {
   "cell_type": "markdown",
   "metadata": {
    "collapsed": true
   },
   "source": [
    "For this exercise, we will provide log data recorded by drone."
   ]
  },
  {
   "cell_type": "code",
   "execution_count": null,
   "metadata": {
    "collapsed": true
   },
   "outputs": [],
   "source": [
    "filename = \"LoggedData1.csv\"\n",
    "data=pd.read_csv(filename)"
   ]
  },
  {
   "cell_type": "markdown",
   "metadata": {},
   "source": [
    "Head of the data file displaying the first five rows."
   ]
  },
  {
   "cell_type": "code",
   "execution_count": null,
   "metadata": {},
   "outputs": [],
   "source": [
    "data.head(n=5)"
   ]
  },
  {
   "cell_type": "markdown",
   "metadata": {},
   "source": [
    "We will use the loaded data to create the measurement matrix and estimate the roll and pitch angles. "
   ]
  },
  {
   "cell_type": "markdown",
   "metadata": {},
   "source": [
    "### Creating the data"
   ]
  },
  {
   "cell_type": "code",
   "execution_count": null,
   "metadata": {
    "collapsed": true
   },
   "outputs": [],
   "source": [
    "z=np.zeros((data.shape[0],4))\n",
    "x=np.zeros((data.shape[0],2))\n",
    "z[:,0] = data['stabilizer.pitch']\n",
    "z[:,1] = data['stabilizer.roll']\n",
    "z[:,2] = -data['gyro.y']\n",
    "z[:,3] = data['gyro.x']\n",
    "dt=10**(-2)                              # sec [Time between measurements]\n",
    "tau = dt*5                               # Tau which is used to normalize the data \n",
    "t=(data['Time']-data['Time'][0])*dt"
   ]
  },
  {
   "cell_type": "markdown",
   "metadata": {},
   "source": [
    "### Initialize the object"
   ]
  },
  {
   "cell_type": "code",
   "execution_count": null,
   "metadata": {
    "collapsed": true
   },
   "outputs": [],
   "source": [
    "ComplementaryFilter = AttitudeFilter(dt,tau)\n",
    "\n",
    "#At the initial point, we assume the estimated pitch and roll angles are the ones measured by accelerometer \n",
    "ComplementaryFilter.estimated_theta = z[0,0]\n",
    "ComplementaryFilter.estimated_phi = z[0,1]\n",
    "\n",
    "# X is the state vector for the complementary filter. \n",
    "x[0,0] = ComplementaryFilter.estimated_theta\n",
    "x[0,1] = ComplementaryFilter.estimated_phi\n",
    "\n",
    "y=np.zeros((data.shape[0],2))\n",
    "y[0,0] = z[0,0]\n",
    "y[:,0] = np.cumsum(z[:,2])*dt + y[0,0]\n",
    "\n",
    "y[0,1] = z[0,1]\n",
    "y[:,1] = np.cumsum(z[:,3])*dt + y[0,1]"
   ]
  },
  {
   "cell_type": "markdown",
   "metadata": {},
   "source": [
    "Estimating the data based on the recorded information."
   ]
  },
  {
   "cell_type": "code",
   "execution_count": null,
   "metadata": {
    "collapsed": true
   },
   "outputs": [],
   "source": [
    "for i in range(1,data.shape[0]):\n",
    "    ComplementaryFilter.update(z[i,:])\n",
    "    x[i,0] = ComplementaryFilter.estimated_theta\n",
    "    x[i,1] = ComplementaryFilter.estimated_phi"
   ]
  },
  {
   "cell_type": "markdown",
   "metadata": {},
   "source": [
    "Plotting the measured and estimated roll and pitch."
   ]
  },
  {
   "cell_type": "code",
   "execution_count": null,
   "metadata": {},
   "outputs": [],
   "source": [
    "plt.plot(t,z[:,0],linestyle='-',color='red')\n",
    "plt.plot(t,x[:,0],linestyle='-',color='blue')\n",
    "plt.plot(t,y[:,0],linestyle='-',color='green')\n",
    "plt.grid()\n",
    "plt.title('Pitch').set_fontsize(20)\n",
    "plt.xlabel('$t$ [sec]').set_fontsize(20)\n",
    "plt.ylabel('$\\Theta - \\Theta_0$ [$^{\\circ}$]').set_fontsize(20)\n",
    "plt.xticks(fontsize = 14)\n",
    "plt.yticks(fontsize = 14)\n",
    "plt.legend(['Measured','Estimated','Gyro integral'],fontsize = 18)\n",
    "plt.show()"
   ]
  },
  {
   "cell_type": "code",
   "execution_count": null,
   "metadata": {},
   "outputs": [],
   "source": [
    "plt.plot(t,z[:,1],linestyle='-',color='red')\n",
    "plt.plot(t,x[:,1],linestyle='-',color='blue')\n",
    "plt.plot(t,y[:,1],linestyle='-',color='green')\n",
    "plt.grid()\n",
    "plt.title('Roll').set_fontsize(20)\n",
    "plt.xlabel('$t$ [sec]').set_fontsize(20)\n",
    "plt.ylabel('$\\Phi - \\Phi$ [$^{\\circ}$]').set_fontsize(20)\n",
    "plt.xticks(fontsize = 14)\n",
    "plt.yticks(fontsize = 14)\n",
    "plt.legend(['Measured','Estimated','Gyro integral'],fontsize = 18)\n",
    "plt.show()"
   ]
  },
  {
   "cell_type": "code",
   "execution_count": null,
   "metadata": {
    "collapsed": true
   },
   "outputs": [],
   "source": []
  },
  {
   "cell_type": "code",
   "execution_count": null,
   "metadata": {
    "collapsed": true
   },
   "outputs": [],
   "source": []
  }
 ],
 "metadata": {
  "kernelspec": {
   "display_name": "Python 3",
   "language": "python",
   "name": "python3"
  },
  "language_info": {
   "codemirror_mode": {
    "name": "ipython",
    "version": 3
   },
   "file_extension": ".py",
   "mimetype": "text/x-python",
   "name": "python",
   "nbconvert_exporter": "python",
   "pygments_lexer": "ipython3",
   "version": "3.6.3"
  }
 },
 "nbformat": 4,
 "nbformat_minor": 2
}
